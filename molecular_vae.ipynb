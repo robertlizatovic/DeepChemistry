{
 "cells": [
  {
   "cell_type": "markdown",
   "metadata": {},
   "source": [
    "# Molecular VAE"
   ]
  },
  {
   "cell_type": "code",
   "execution_count": 1,
   "metadata": {},
   "outputs": [
    {
     "name": "stderr",
     "output_type": "stream",
     "text": [
      "RDKit WARNING: [18:20:00] Enabling RDKit 2019.09.1 jupyter extensions\n"
     ]
    }
   ],
   "source": [
    "# packages\n",
    "import pandas as pd\n",
    "import numpy as np\n",
    "import tqdm\n",
    "import torch\n",
    "import torch.utils.data as tud\n",
    "from torch import nn\n",
    "from torch.nn import functional as F\n",
    "from sklearn.model_selection import train_test_split\n",
    "\n",
    "# project modules\n",
    "from utils import SMILESTokenizer, SMILESVocabulary, SMILESDataset, countTokens\n",
    "from models import MolecularVAE\n",
    "\n",
    "# plotting\n",
    "import matplotlib.pyplot as plt\n",
    "import seaborn as sns\n",
    "\n",
    "# chemistry\n",
    "from rdkit import Chem\n",
    "from rdkit.Chem import Draw\n",
    "from rdkit.Chem.Draw import IPythonConsole\n",
    "IPythonConsole.ipython_useSVG=True  #set this to False if you want PNGs instead of SVGs"
   ]
  },
  {
   "cell_type": "markdown",
   "metadata": {},
   "source": [
    "## Load data"
   ]
  },
  {
   "cell_type": "code",
   "execution_count": 2,
   "metadata": {},
   "outputs": [
    {
     "data": {
      "text/html": [
       "<div>\n",
       "<style scoped>\n",
       "    .dataframe tbody tr th:only-of-type {\n",
       "        vertical-align: middle;\n",
       "    }\n",
       "\n",
       "    .dataframe tbody tr th {\n",
       "        vertical-align: top;\n",
       "    }\n",
       "\n",
       "    .dataframe thead th {\n",
       "        text-align: right;\n",
       "    }\n",
       "</style>\n",
       "<table border=\"1\" class=\"dataframe\">\n",
       "  <thead>\n",
       "    <tr style=\"text-align: right;\">\n",
       "      <th></th>\n",
       "      <th>ChEMBL ID</th>\n",
       "      <th>Smiles</th>\n",
       "      <th>AlogP</th>\n",
       "      <th>QED Weighted</th>\n",
       "    </tr>\n",
       "  </thead>\n",
       "  <tbody>\n",
       "    <tr>\n",
       "      <th>0</th>\n",
       "      <td>CHEMBL2333117</td>\n",
       "      <td>CC(C)Nc1c(C(N)=O)nnc2ccc(-c3cnn(C)c3)cc12</td>\n",
       "      <td>1.95</td>\n",
       "      <td>0.77</td>\n",
       "    </tr>\n",
       "    <tr>\n",
       "      <th>1</th>\n",
       "      <td>CHEMBL1189585</td>\n",
       "      <td>CC1C(=O)NC2=Nc3sc4c(c3CN21)CCCC4</td>\n",
       "      <td>1.95</td>\n",
       "      <td>0.78</td>\n",
       "    </tr>\n",
       "    <tr>\n",
       "      <th>2</th>\n",
       "      <td>CHEMBL4089494</td>\n",
       "      <td>CNC(=O)c1ccc(NC(=O)Nc2ccc(-c3nc(N4CCOCC4)c4ncc...</td>\n",
       "      <td>3.53</td>\n",
       "      <td>0.40</td>\n",
       "    </tr>\n",
       "    <tr>\n",
       "      <th>3</th>\n",
       "      <td>CHEMBL1189590</td>\n",
       "      <td>CN(C)c1nccc2c1nnn2Cc1ccccc1F</td>\n",
       "      <td>2.08</td>\n",
       "      <td>0.73</td>\n",
       "    </tr>\n",
       "    <tr>\n",
       "      <th>4</th>\n",
       "      <td>CHEMBL3927722</td>\n",
       "      <td>Cc1noc(C)c1Cn1cc(NC(=O)Cc2ccco2)cn1</td>\n",
       "      <td>2.31</td>\n",
       "      <td>0.78</td>\n",
       "    </tr>\n",
       "  </tbody>\n",
       "</table>\n",
       "</div>"
      ],
      "text/plain": [
       "       ChEMBL ID                                             Smiles  AlogP  \\\n",
       "0  CHEMBL2333117          CC(C)Nc1c(C(N)=O)nnc2ccc(-c3cnn(C)c3)cc12   1.95   \n",
       "1  CHEMBL1189585                   CC1C(=O)NC2=Nc3sc4c(c3CN21)CCCC4   1.95   \n",
       "2  CHEMBL4089494  CNC(=O)c1ccc(NC(=O)Nc2ccc(-c3nc(N4CCOCC4)c4ncc...   3.53   \n",
       "3  CHEMBL1189590                       CN(C)c1nccc2c1nnn2Cc1ccccc1F   2.08   \n",
       "4  CHEMBL3927722                Cc1noc(C)c1Cn1cc(NC(=O)Cc2ccco2)cn1   2.31   \n",
       "\n",
       "   QED Weighted  \n",
       "0          0.77  \n",
       "1          0.78  \n",
       "2          0.40  \n",
       "3          0.73  \n",
       "4          0.78  "
      ]
     },
     "execution_count": 2,
     "metadata": {},
     "output_type": "execute_result"
    }
   ],
   "source": [
    "chembl = pd.read_csv(\"data/cleaned_dataset.csv\")\n",
    "chembl.head()"
   ]
  },
  {
   "cell_type": "markdown",
   "metadata": {},
   "source": [
    "## Data preparation & encoding\n",
    "\n",
    "Steps to prepare VAE input data:\n",
    "1. SMILES tokenization (add start/end tokens)\n",
    "2. SMILES token encoding (convert to integer indecies) -> build a vocabulary\n",
    "3. Set up a SMILES dataset class (for feeding batches of data to the VAE)"
   ]
  },
  {
   "cell_type": "markdown",
   "metadata": {},
   "source": [
    "### Build a vocabulary"
   ]
  },
  {
   "cell_type": "code",
   "execution_count": 3,
   "metadata": {},
   "outputs": [],
   "source": [
    "tokenizer = SMILESTokenizer()\n",
    "vocabulary = SMILESVocabulary()"
   ]
  },
  {
   "cell_type": "code",
   "execution_count": 4,
   "metadata": {},
   "outputs": [],
   "source": [
    "# vocabulary.build(chembl[\"Smiles\"], tokenizer)"
   ]
  },
  {
   "cell_type": "code",
   "execution_count": 5,
   "metadata": {},
   "outputs": [],
   "source": [
    "# # save vocabulary\n",
    "# vocabulary.save(\"data/vocabulary.csv\")"
   ]
  },
  {
   "cell_type": "code",
   "execution_count": 4,
   "metadata": {},
   "outputs": [],
   "source": [
    "# load vocabulary\n",
    "vocabulary.load(\"data/vocabulary.csv\")"
   ]
  },
  {
   "cell_type": "markdown",
   "metadata": {},
   "source": [
    "### Analyze token frequencies"
   ]
  },
  {
   "cell_type": "code",
   "execution_count": 11,
   "metadata": {
    "scrolled": true
   },
   "outputs": [
    {
     "data": {
      "text/html": [
       "<div>\n",
       "<style scoped>\n",
       "    .dataframe tbody tr th:only-of-type {\n",
       "        vertical-align: middle;\n",
       "    }\n",
       "\n",
       "    .dataframe tbody tr th {\n",
       "        vertical-align: top;\n",
       "    }\n",
       "\n",
       "    .dataframe thead th {\n",
       "        text-align: right;\n",
       "    }\n",
       "</style>\n",
       "<table border=\"1\" class=\"dataframe\">\n",
       "  <thead>\n",
       "    <tr style=\"text-align: right;\">\n",
       "      <th></th>\n",
       "      <th>token</th>\n",
       "      <th>cnt</th>\n",
       "    </tr>\n",
       "  </thead>\n",
       "  <tbody>\n",
       "    <tr>\n",
       "      <th>0</th>\n",
       "      <td>C</td>\n",
       "      <td>12896279</td>\n",
       "    </tr>\n",
       "    <tr>\n",
       "      <th>1</th>\n",
       "      <td>(</td>\n",
       "      <td>7025189</td>\n",
       "    </tr>\n",
       "    <tr>\n",
       "      <th>2</th>\n",
       "      <td>)</td>\n",
       "      <td>7025189</td>\n",
       "    </tr>\n",
       "    <tr>\n",
       "      <th>3</th>\n",
       "      <td>N</td>\n",
       "      <td>2682981</td>\n",
       "    </tr>\n",
       "    <tr>\n",
       "      <th>4</th>\n",
       "      <td>c</td>\n",
       "      <td>18431345</td>\n",
       "    </tr>\n",
       "    <tr>\n",
       "      <th>5</th>\n",
       "      <td>1</td>\n",
       "      <td>4604265</td>\n",
       "    </tr>\n",
       "    <tr>\n",
       "      <th>6</th>\n",
       "      <td>=</td>\n",
       "      <td>2904352</td>\n",
       "    </tr>\n",
       "    <tr>\n",
       "      <th>7</th>\n",
       "      <td>O</td>\n",
       "      <td>4388805</td>\n",
       "    </tr>\n",
       "    <tr>\n",
       "      <th>8</th>\n",
       "      <td>n</td>\n",
       "      <td>2124346</td>\n",
       "    </tr>\n",
       "    <tr>\n",
       "      <th>9</th>\n",
       "      <td>2</td>\n",
       "      <td>3590237</td>\n",
       "    </tr>\n",
       "    <tr>\n",
       "      <th>10</th>\n",
       "      <td>-</td>\n",
       "      <td>576826</td>\n",
       "    </tr>\n",
       "    <tr>\n",
       "      <th>11</th>\n",
       "      <td>3</td>\n",
       "      <td>1781615</td>\n",
       "    </tr>\n",
       "    <tr>\n",
       "      <th>12</th>\n",
       "      <td>s</td>\n",
       "      <td>190809</td>\n",
       "    </tr>\n",
       "    <tr>\n",
       "      <th>13</th>\n",
       "      <td>4</td>\n",
       "      <td>530543</td>\n",
       "    </tr>\n",
       "    <tr>\n",
       "      <th>14</th>\n",
       "      <td>F</td>\n",
       "      <td>577815</td>\n",
       "    </tr>\n",
       "    <tr>\n",
       "      <th>15</th>\n",
       "      <td>o</td>\n",
       "      <td>190476</td>\n",
       "    </tr>\n",
       "    <tr>\n",
       "      <th>16</th>\n",
       "      <td>Cl</td>\n",
       "      <td>340814</td>\n",
       "    </tr>\n",
       "    <tr>\n",
       "      <th>17</th>\n",
       "      <td>[</td>\n",
       "      <td>1253085</td>\n",
       "    </tr>\n",
       "    <tr>\n",
       "      <th>18</th>\n",
       "      <td>@</td>\n",
       "      <td>1286887</td>\n",
       "    </tr>\n",
       "    <tr>\n",
       "      <th>19</th>\n",
       "      <td>H</td>\n",
       "      <td>936158</td>\n",
       "    </tr>\n",
       "    <tr>\n",
       "      <th>20</th>\n",
       "      <td>]</td>\n",
       "      <td>1253085</td>\n",
       "    </tr>\n",
       "    <tr>\n",
       "      <th>21</th>\n",
       "      <td>S</td>\n",
       "      <td>418728</td>\n",
       "    </tr>\n",
       "    <tr>\n",
       "      <th>22</th>\n",
       "      <td>5</td>\n",
       "      <td>98750</td>\n",
       "    </tr>\n",
       "    <tr>\n",
       "      <th>23</th>\n",
       "      <td>#</td>\n",
       "      <td>109078</td>\n",
       "    </tr>\n",
       "    <tr>\n",
       "      <th>24</th>\n",
       "      <td>Br</td>\n",
       "      <td>70038</td>\n",
       "    </tr>\n",
       "    <tr>\n",
       "      <th>25</th>\n",
       "      <td>/</td>\n",
       "      <td>345947</td>\n",
       "    </tr>\n",
       "    <tr>\n",
       "      <th>26</th>\n",
       "      <td>\\</td>\n",
       "      <td>78135</td>\n",
       "    </tr>\n",
       "    <tr>\n",
       "      <th>27</th>\n",
       "      <td>6</td>\n",
       "      <td>11356</td>\n",
       "    </tr>\n",
       "    <tr>\n",
       "      <th>28</th>\n",
       "      <td>8</td>\n",
       "      <td>516</td>\n",
       "    </tr>\n",
       "    <tr>\n",
       "      <th>29</th>\n",
       "      <td>7</td>\n",
       "      <td>1131</td>\n",
       "    </tr>\n",
       "    <tr>\n",
       "      <th>30</th>\n",
       "      <td>P</td>\n",
       "      <td>20234</td>\n",
       "    </tr>\n",
       "    <tr>\n",
       "      <th>31</th>\n",
       "      <td>p</td>\n",
       "      <td>17</td>\n",
       "    </tr>\n",
       "    <tr>\n",
       "      <th>32</th>\n",
       "      <td>+</td>\n",
       "      <td>102796</td>\n",
       "    </tr>\n",
       "    <tr>\n",
       "      <th>33</th>\n",
       "      <td>I</td>\n",
       "      <td>9080</td>\n",
       "    </tr>\n",
       "    <tr>\n",
       "      <th>34</th>\n",
       "      <td>9</td>\n",
       "      <td>17</td>\n",
       "    </tr>\n",
       "    <tr>\n",
       "      <th>35</th>\n",
       "      <td>%</td>\n",
       "      <td>8</td>\n",
       "    </tr>\n",
       "    <tr>\n",
       "      <th>36</th>\n",
       "      <td>0</td>\n",
       "      <td>4</td>\n",
       "    </tr>\n",
       "  </tbody>\n",
       "</table>\n",
       "</div>"
      ],
      "text/plain": [
       "   token       cnt\n",
       "0      C  12896279\n",
       "1      (   7025189\n",
       "2      )   7025189\n",
       "3      N   2682981\n",
       "4      c  18431345\n",
       "5      1   4604265\n",
       "6      =   2904352\n",
       "7      O   4388805\n",
       "8      n   2124346\n",
       "9      2   3590237\n",
       "10     -    576826\n",
       "11     3   1781615\n",
       "12     s    190809\n",
       "13     4    530543\n",
       "14     F    577815\n",
       "15     o    190476\n",
       "16    Cl    340814\n",
       "17     [   1253085\n",
       "18     @   1286887\n",
       "19     H    936158\n",
       "20     ]   1253085\n",
       "21     S    418728\n",
       "22     5     98750\n",
       "23     #    109078\n",
       "24    Br     70038\n",
       "25     /    345947\n",
       "26     \\     78135\n",
       "27     6     11356\n",
       "28     8       516\n",
       "29     7      1131\n",
       "30     P     20234\n",
       "31     p        17\n",
       "32     +    102796\n",
       "33     I      9080\n",
       "34     9        17\n",
       "35     %         8\n",
       "36     0         4"
      ]
     },
     "execution_count": 11,
     "metadata": {},
     "output_type": "execute_result"
    }
   ],
   "source": [
    "token_cnts = countTokens(chembl[\"Smiles\"], tokenizer)\n",
    "token_cnts"
   ]
  },
  {
   "cell_type": "code",
   "execution_count": 12,
   "metadata": {},
   "outputs": [
    {
     "data": {
      "image/png": "[encoded data removed]",
      "text/plain": [
       "<Figure size 720x432 with 1 Axes>"
      ]
     },
     "metadata": {
      "needs_background": "light"
     },
     "output_type": "display_data"
    }
   ],
   "source": [
    "# plot token distribution\n",
    "fig, ax = plt.subplots(figsize=(10, 6))\n",
    "_ = sns.barplot(data=token_cnts.sort_values(\"cnt\", ascending=False), x=\"token\", y=\"cnt\", color=\"steelblue\", ax=ax)"
   ]
  },
  {
   "cell_type": "markdown",
   "metadata": {},
   "source": [
    "## Train/validation/test split\n",
    "\n",
    "A randomly selected validation and test set will be put aside for monitoring the network training process itself (validation set) and evaluating the trained models (test set).\n",
    "\n",
    "Models will be evaluated in terms of the mean **E**vidence **L**ower **BO**und (**ELBO**) of the test set sequences (SMILES). The higher the better. This is equivalent to to saying that the loss function (which is the negative ELBO) should be as low as possible: \n",
    "\n",
    "$$L(S;\\theta)=-ELBO(S;\\theta)=KL(S;\\theta) + NLL(S;\\theta)$$\n",
    "\n",
    "where S is the set of SMILES strings in the test set, $KL(S;\\theta)$ is the mean KL divergence of the test set (obtained from the encoder of the VAE), and $NLL(S;\\theta)$ is the mean neg. log-likelihood of the test set (obtained from the decoder of the VAE). See bellow."
   ]
  },
  {
   "cell_type": "code",
   "execution_count": 5,
   "metadata": {},
   "outputs": [],
   "source": [
    "train, test = train_test_split(chembl, test_size=0.1, random_state=42)\n",
    "train, validation = train_test_split(train, test_size=0.1, random_state=42)"
   ]
  },
  {
   "cell_type": "code",
   "execution_count": 6,
   "metadata": {},
   "outputs": [
    {
     "data": {
      "text/plain": [
       "(1292494, 4)"
      ]
     },
     "execution_count": 6,
     "metadata": {},
     "output_type": "execute_result"
    }
   ],
   "source": [
    "train.shape"
   ]
  },
  {
   "cell_type": "markdown",
   "metadata": {},
   "source": [
    "### Build a dataset\n",
    "\n",
    "A dataset is created for each split so batches of samples can easily be fed to the model."
   ]
  },
  {
   "cell_type": "code",
   "execution_count": 7,
   "metadata": {},
   "outputs": [],
   "source": [
    "train_ds = SMILESDataset(train[\"Smiles\"], vocabulary, tokenizer)\n",
    "val_ds = SMILESDataset(validation[\"Smiles\"], vocabulary, tokenizer)\n",
    "test_ds = SMILESDataset(test[\"Smiles\"], vocabulary, tokenizer)"
   ]
  },
  {
   "cell_type": "markdown",
   "metadata": {},
   "source": [
    "## VAE models\n",
    "\n",
    "The variational autoencoder consists of the following components:\n",
    "1. SMILES encoder: maps input sequences to a latent vector z.\n",
    "2. Decoder: decodes a latent vector z into a sequence."
   ]
  },
  {
   "cell_type": "code",
   "execution_count": 9,
   "metadata": {},
   "outputs": [],
   "source": [
    "vae = MolecularVAE(len(vocabulary), 16, 128, 128, vocabulary.getStartIdx(), vocabulary.getEndIdx(), vocabulary.getPadIdx(), \n",
    "                   rnn_layers=2, bidirectional=True, token_dropout=0.5, embedding_dropout=0.0)"
   ]
  },
  {
   "cell_type": "markdown",
   "metadata": {},
   "source": [
    "## Model training"
   ]
  },
  {
   "cell_type": "markdown",
   "metadata": {},
   "source": [
    "### The loss function\n",
    "\n",
    "The loss function used for training the VAE is the negative of the **E**vidence **L**ower **BO**und (**ELBO**). ELBO consists of 2 terms, and represents the lower bound on the marginal log-likelihood of the data:\n",
    "\n",
    "$$ELBO(S;\\theta) = E_{q_{\\theta}(Z|S)}[\\log{p_{\\theta}(S|Z)}] - KL(q_{\\theta}(Z|S) \\lVert p(Z)) \\leq \\log{p(S)}$$\n",
    "\n",
    "Here, $Z$ is the latent variable, $S$ is the observed SMILES data (evidence), $q_{\\theta}(Z|S)$ (encoder output) is the approximation to the true posterior distribution - $p(Z|S)$, $p_{\\theta}(S|Z)$ is the conditional distribution over $S$ given $Z$ (decoder output), $p(Z)$ is the prior ditribution of the latent variable $Z$, and $p(S)$ is the marginal distribution of the data.\n",
    "\n",
    "The first term is estimated using a single sample drawn from the approximate posterior, whereas the KL term is computed analytically in closed form. The goal of the optimization is to maximize the lower bound, and this can be achieved by minimizing its negative (the loss function):\n",
    "\n",
    "$$L(S;\\theta) = -\\log{p_{\\theta}(S|Z)} + KL(q_{\\theta}(Z|S) \\lVert p(Z))$$\n",
    "\n",
    "Here also the expectation term was replaced by the neg. log-likelihood of $S$ given a single $Z$ drawn from $q_{\\theta}(Z|S)$ as explained above. For a minibatch of samples - $S$, the loss function then becomes:\n",
    "\n",
    "$$L(S;\\theta) = -\\frac{1}{m}\\sum_{i=1}^{m} \\log{p_{\\theta}(S_i|Z_i)} + \\frac{1}{m}\\sum_{i=1}^{m} KL(q_{\\theta}(Z_i|S_i) \\lVert p(Z))=NLL + KL$$\n",
    "\n",
    "Here, $i$ is a particular example from a batch of $m$ samples.\n",
    "\n",
    "Because $q_{\\theta}(Z_i|S_i)$ and $p(Z)$ are both chosen to be diagonal multivariate gaussians and in particular $p(Z) \\sim \\mathcal{N}(0, I)$, the KL divergence term can be computed analytically in closed form:\n",
    "\n",
    "$$KL(q_{\\theta}(Z_i|S_i) \\lVert p(Z)) = \\frac{1}{2}\\left(\\lVert\\mu_q\\lVert^2 - k + tr\\{\\Sigma_q\\} - \\log{|\\Sigma_q|}\\right)=\\frac{1}{2}\\left(\\sum_{j=1}^{k} \\mu_j^2 - k + \\sum_{j=1}^{k} \\nu_j - \\sum_{j=1}^{k} \\log{\\nu_j}\\right)=\\frac{1}{2}\\sum_{j=1}^{k}\\left(\\mu_j^2 - 1 + \\nu_j - \\log{\\nu_j}\\right)$$\n",
    "\n",
    "where $\\mu_j$ and $\\nu_j$ are the $j^{th}$ components of the mean and variance vectors of $q_{\\theta}(Z_i|S_i)$"
   ]
  },
  {
   "cell_type": "code",
   "execution_count": 10,
   "metadata": {
    "code_folding": []
   },
   "outputs": [],
   "source": [
    "def compute_loss(model:nn.Module, batch:torch.Tensor) -> tuple:\n",
    "    \"\"\"Computes the NLL and KL loss for a batch of sequences\"\"\"\n",
    "    batch_sz = batch.size(0)\n",
    "    # prepare targets (input shifted 1 step to the left and padded with pad idx)\n",
    "    targets = batch.roll(shifts=-1, dims=1)\n",
    "    targets[:, -1] = model.pad_idx\n",
    "    # prepare predictions\n",
    "    logp, _, mean, logv = model(batch)\n",
    "    preds = logp.permute(0, 2, 1)\n",
    "    # compute NLL (neg. log likelihood) loss for the target sequence (ignore padding idx)\n",
    "    nll_loss = F.nll_loss(preds, targets, ignore_index=model.pad_idx, reduction=\"sum\") / batch_sz\n",
    "    # compute KL loss\n",
    "    kl_loss = -0.5 * torch.sum(1 + logv - mean.pow(2) - logv.exp()) / batch_sz\n",
    "    # compute total loss (averged within a batch)\n",
    "    return (nll_loss, kl_loss)\n",
    "\n",
    "def annealing_func(s:int, m:int, w:float) -> float:\n",
    "    \"\"\"\n",
    "    Controls the final loss function through an adjustable KL weight\n",
    "    -------------------\n",
    "    s - iteration step\n",
    "    m - midpoint (iteration step at which the KL weight is 0.5)\n",
    "    w - width (smoothnes of the sigmoid annealing function around the midpoint)\n",
    "    \"\"\"\n",
    "    return 1 / (1 + np.exp(-(s - m)/w))\n"
   ]
  },
  {
   "cell_type": "markdown",
   "metadata": {},
   "source": [
    "### Train the model"
   ]
  },
  {
   "cell_type": "code",
   "execution_count": 42,
   "metadata": {},
   "outputs": [],
   "source": [
    "NUM_EPOCHS = 1\n",
    "BATCH_SZ = 128\n",
    "KLW_MIDPOINT = 4000\n",
    "KLW_WIDTH = 1000"
   ]
  },
  {
   "cell_type": "code",
   "execution_count": 43,
   "metadata": {
    "scrolled": true
   },
   "outputs": [
    {
     "name": "stdout",
     "output_type": "stream",
     "text": [
      "Epoch: 1\n",
      "Training batch: 0, ELBO: 176.4229, NLL: 176.4156, KL div: 0.4033, KL weight: 0.0180\n",
      "Training batch: 100, ELBO: 105.5564, NLL: 105.0558, KL div: 25.2318, KL weight: 0.0198\n",
      "Training batch: 200, ELBO: 88.2850, NLL: 87.9084, KL div: 17.2122, KL weight: 0.0219\n",
      "Training batch: 300, ELBO: 85.7094, NLL: 85.4159, KL div: 12.1642, KL weight: 0.0241\n",
      "Training batch: 400, ELBO: 85.1872, NLL: 84.8988, KL div: 10.8430, KL weight: 0.0266\n",
      "Training batch: 500, ELBO: 80.7567, NLL: 80.4910, KL div: 9.0627, KL weight: 0.0293\n",
      "Training batch: 600, ELBO: 83.4587, NLL: 83.2181, KL div: 7.4484, KL weight: 0.0323\n",
      "Training batch: 700, ELBO: 81.8639, NLL: 81.6549, KL div: 5.8745, KL weight: 0.0356\n",
      "Training batch: 800, ELBO: 79.1016, NLL: 78.8323, KL div: 6.8741, KL weight: 0.0392\n",
      "Training batch: 900, ELBO: 77.6445, NLL: 77.4106, KL div: 5.4271, KL weight: 0.0431\n",
      "Training batch: 1000, ELBO: 79.7108, NLL: 79.4682, KL div: 5.1141, KL weight: 0.0474\n",
      "Training batch: 1100, ELBO: 73.6171, NLL: 73.3902, KL div: 4.3505, KL weight: 0.0522\n",
      "Training batch: 1200, ELBO: 73.8364, NLL: 73.5821, KL div: 4.4356, KL weight: 0.0573\n",
      "Training batch: 1300, ELBO: 79.9880, NLL: 79.7141, KL div: 4.3492, KL weight: 0.0630\n",
      "Training batch: 1400, ELBO: 76.4295, NLL: 76.1927, KL div: 3.4257, KL weight: 0.0691\n",
      "Training batch: 1500, ELBO: 75.6950, NLL: 75.4536, KL div: 3.1824, KL weight: 0.0759\n",
      "Training batch: 1600, ELBO: 76.3185, NLL: 76.1055, KL div: 2.5614, KL weight: 0.0832\n",
      "Training batch: 1700, ELBO: 73.7255, NLL: 73.4385, KL div: 3.1503, KL weight: 0.0911\n",
      "Training batch: 1800, ELBO: 74.0841, NLL: 73.8260, KL div: 2.5875, KL weight: 0.0998\n",
      "Training batch: 1900, ELBO: 75.4806, NLL: 75.2197, KL div: 2.3909, KL weight: 0.1091\n",
      "Training batch: 2000, ELBO: 74.9804, NLL: 74.7440, KL div: 1.9834, KL weight: 0.1192\n",
      "Training batch: 2100, ELBO: 73.1464, NLL: 72.8750, KL div: 2.0860, KL weight: 0.1301\n",
      "Training batch: 2200, ELBO: 75.1557, NLL: 74.9219, KL div: 1.6483, KL weight: 0.1419\n",
      "Training batch: 2300, ELBO: 73.0536, NLL: 72.7932, KL div: 1.6858, KL weight: 0.1545\n",
      "Training batch: 2400, ELBO: 75.8099, NLL: 75.5409, KL div: 1.6010, KL weight: 0.1680\n",
      "Training batch: 2500, ELBO: 74.5232, NLL: 74.2696, KL div: 1.3904, KL weight: 0.1824\n",
      "Training batch: 2600, ELBO: 72.2325, NLL: 71.9961, KL div: 1.1950, KL weight: 0.1978\n",
      "Training batch: 2700, ELBO: 72.8773, NLL: 72.6515, KL div: 1.0542, KL weight: 0.2142\n",
      "Training batch: 2800, ELBO: 71.3021, NLL: 71.1245, KL div: 0.7671, KL weight: 0.2315\n",
      "Training batch: 2900, ELBO: 71.9301, NLL: 71.7734, KL div: 0.6277, KL weight: 0.2497\n",
      "Training batch: 3000, ELBO: 67.9571, NLL: 67.8383, KL div: 0.4419, KL weight: 0.2689\n",
      "Training batch: 3100, ELBO: 73.0102, NLL: 72.9074, KL div: 0.3555, KL weight: 0.2891\n",
      "Training batch: 3200, ELBO: 68.4357, NLL: 68.3499, KL div: 0.2768, KL weight: 0.3100\n",
      "Training batch: 3300, ELBO: 70.8542, NLL: 70.8157, KL div: 0.1161, KL weight: 0.3318\n",
      "Training batch: 3400, ELBO: 69.1344, NLL: 69.1151, KL div: 0.0542, KL weight: 0.3543\n",
      "Training batch: 3500, ELBO: 71.5873, NLL: 71.5758, KL div: 0.0303, KL weight: 0.3775\n",
      "Training batch: 3600, ELBO: 70.8744, NLL: 70.8694, KL div: 0.0125, KL weight: 0.4013\n",
      "Training batch: 3700, ELBO: 69.5386, NLL: 69.5320, KL div: 0.0155, KL weight: 0.4256\n",
      "Training batch: 3800, ELBO: 70.4293, NLL: 70.4260, KL div: 0.0073, KL weight: 0.4502\n",
      "Training batch: 3900, ELBO: 69.2869, NLL: 69.2844, KL div: 0.0053, KL weight: 0.4750\n",
      "Training batch: 4000, ELBO: 72.3790, NLL: 72.3760, KL div: 0.0060, KL weight: 0.5000\n",
      "Training batch: 4100, ELBO: 67.6893, NLL: 67.6884, KL div: 0.0017, KL weight: 0.5250\n",
      "Training batch: 4200, ELBO: 71.2292, NLL: 71.2280, KL div: 0.0022, KL weight: 0.5498\n",
      "Training batch: 4300, ELBO: 72.2056, NLL: 72.2046, KL div: 0.0016, KL weight: 0.5744\n",
      "Training batch: 4400, ELBO: 69.9901, NLL: 69.9895, KL div: 0.0010, KL weight: 0.5987\n",
      "Training batch: 4500, ELBO: 70.5261, NLL: 70.5256, KL div: 0.0009, KL weight: 0.6225\n",
      "Training batch: 4600, ELBO: 72.7738, NLL: 72.7731, KL div: 0.0011, KL weight: 0.6457\n",
      "Training batch: 4700, ELBO: 73.4164, NLL: 73.4160, KL div: 0.0006, KL weight: 0.6682\n",
      "Training batch: 4800, ELBO: 70.2200, NLL: 70.2196, KL div: 0.0006, KL weight: 0.6900\n",
      "Training batch: 4900, ELBO: 74.3282, NLL: 74.3278, KL div: 0.0006, KL weight: 0.7109\n",
      "Training batch: 5000, ELBO: 72.4062, NLL: 72.4059, KL div: 0.0004, KL weight: 0.7311\n",
      "Training batch: 5100, ELBO: 71.1633, NLL: 71.1629, KL div: 0.0005, KL weight: 0.7503\n",
      "Training batch: 5200, ELBO: 64.1341, NLL: 64.1337, KL div: 0.0005, KL weight: 0.7685\n",
      "Training batch: 5300, ELBO: 72.1972, NLL: 72.1968, KL div: 0.0005, KL weight: 0.7858\n",
      "Training batch: 5400, ELBO: 71.8278, NLL: 71.8275, KL div: 0.0004, KL weight: 0.8022\n",
      "Training batch: 5500, ELBO: 69.6299, NLL: 69.6296, KL div: 0.0004, KL weight: 0.8176\n",
      "Training batch: 5600, ELBO: 70.0844, NLL: 70.0841, KL div: 0.0004, KL weight: 0.8320\n",
      "Training batch: 5700, ELBO: 70.0974, NLL: 70.0971, KL div: 0.0003, KL weight: 0.8455\n",
      "Training batch: 5800, ELBO: 73.3390, NLL: 73.3387, KL div: 0.0003, KL weight: 0.8581\n",
      "Training batch: 5900, ELBO: 73.7280, NLL: 73.7276, KL div: 0.0004, KL weight: 0.8699\n",
      "Training batch: 6000, ELBO: 68.2680, NLL: 68.2677, KL div: 0.0003, KL weight: 0.8808\n",
      "Training batch: 6100, ELBO: 68.8793, NLL: 68.8791, KL div: 0.0003, KL weight: 0.8909\n",
      "Training batch: 6200, ELBO: 70.3089, NLL: 70.3087, KL div: 0.0003, KL weight: 0.9002\n",
      "Training batch: 6300, ELBO: 69.5322, NLL: 69.5320, KL div: 0.0003, KL weight: 0.9089\n",
      "Training batch: 6400, ELBO: 64.9102, NLL: 64.9099, KL div: 0.0004, KL weight: 0.9168\n",
      "Training batch: 6500, ELBO: 65.5303, NLL: 65.5301, KL div: 0.0003, KL weight: 0.9241\n",
      "Training batch: 6600, ELBO: 65.6607, NLL: 65.6604, KL div: 0.0002, KL weight: 0.9309\n",
      "Training batch: 6700, ELBO: 69.0067, NLL: 69.0065, KL div: 0.0002, KL weight: 0.9370\n",
      "Training batch: 6800, ELBO: 66.9051, NLL: 66.9049, KL div: 0.0002, KL weight: 0.9427\n",
      "Training batch: 6900, ELBO: 69.5596, NLL: 69.5594, KL div: 0.0003, KL weight: 0.9478\n",
      "Training batch: 7000, ELBO: 70.0420, NLL: 70.0418, KL div: 0.0002, KL weight: 0.9526\n",
      "Training batch: 7100, ELBO: 68.3452, NLL: 68.3449, KL div: 0.0003, KL weight: 0.9569\n",
      "Training batch: 7200, ELBO: 67.7151, NLL: 67.7149, KL div: 0.0003, KL weight: 0.9608\n",
      "Training batch: 7300, ELBO: 66.1391, NLL: 66.1388, KL div: 0.0002, KL weight: 0.9644\n",
      "Training batch: 7400, ELBO: 68.4992, NLL: 68.4990, KL div: 0.0002, KL weight: 0.9677\n",
      "Training batch: 7500, ELBO: 71.0664, NLL: 71.0662, KL div: 0.0002, KL weight: 0.9707\n",
      "Training batch: 7600, ELBO: 71.4125, NLL: 71.4124, KL div: 0.0002, KL weight: 0.9734\n",
      "Training batch: 7700, ELBO: 69.6132, NLL: 69.6130, KL div: 0.0002, KL weight: 0.9759\n",
      "Training batch: 7800, ELBO: 69.0277, NLL: 69.0275, KL div: 0.0002, KL weight: 0.9781\n",
      "Training batch: 7900, ELBO: 70.3575, NLL: 70.3573, KL div: 0.0002, KL weight: 0.9802\n",
      "Training batch: 8000, ELBO: 66.8388, NLL: 66.8386, KL div: 0.0002, KL weight: 0.9820\n",
      "Training batch: 8100, ELBO: 67.9604, NLL: 67.9602, KL div: 0.0002, KL weight: 0.9837\n",
      "Training batch: 8200, ELBO: 67.1205, NLL: 67.1203, KL div: 0.0002, KL weight: 0.9852\n",
      "Training batch: 8300, ELBO: 66.5098, NLL: 66.5096, KL div: 0.0002, KL weight: 0.9866\n",
      "Training batch: 8400, ELBO: 64.7388, NLL: 64.7386, KL div: 0.0002, KL weight: 0.9879\n",
      "Training batch: 8500, ELBO: 66.0992, NLL: 66.0991, KL div: 0.0002, KL weight: 0.9890\n",
      "Training batch: 8600, ELBO: 66.4352, NLL: 66.4350, KL div: 0.0002, KL weight: 0.9900\n",
      "Training batch: 8700, ELBO: 68.3565, NLL: 68.3563, KL div: 0.0002, KL weight: 0.9910\n",
      "Training batch: 8800, ELBO: 70.8888, NLL: 70.8887, KL div: 0.0002, KL weight: 0.9918\n",
      "Training batch: 8900, ELBO: 67.3743, NLL: 67.3742, KL div: 0.0002, KL weight: 0.9926\n",
      "Training batch: 9000, ELBO: 68.9689, NLL: 68.9687, KL div: 0.0002, KL weight: 0.9933\n",
      "Training batch: 9100, ELBO: 66.7343, NLL: 66.7341, KL div: 0.0002, KL weight: 0.9939\n",
      "Training batch: 9200, ELBO: 67.3787, NLL: 67.3786, KL div: 0.0001, KL weight: 0.9945\n",
      "Training batch: 9300, ELBO: 71.4284, NLL: 71.4280, KL div: 0.0004, KL weight: 0.9950\n",
      "Training batch: 9400, ELBO: 67.8623, NLL: 67.8621, KL div: 0.0002, KL weight: 0.9955\n",
      "Training batch: 9500, ELBO: 69.0987, NLL: 69.0986, KL div: 0.0001, KL weight: 0.9959\n",
      "Training batch: 9600, ELBO: 67.0670, NLL: 67.0668, KL div: 0.0002, KL weight: 0.9963\n"
     ]
    },
    {
     "name": "stdout",
     "output_type": "stream",
     "text": [
      "Training batch: 9700, ELBO: 68.3240, NLL: 68.3238, KL div: 0.0002, KL weight: 0.9967\n",
      "Training batch: 9800, ELBO: 67.4940, NLL: 67.4938, KL div: 0.0002, KL weight: 0.9970\n",
      "Training batch: 9900, ELBO: 61.7412, NLL: 61.7409, KL div: 0.0003, KL weight: 0.9973\n",
      "Training batch: 10000, ELBO: 67.0018, NLL: 67.0016, KL div: 0.0002, KL weight: 0.9975\n",
      "Epoch 1 validation scores: ELBO: 67.5875, NLL: 67.5873, KL div: 0.0002\n"
     ]
    }
   ],
   "source": [
    "# train the model\n",
    "optimizer = torch.optim.Adam(vae.parameters(), lr=0.001)\n",
    "step = 0\n",
    "for e in range(1, NUM_EPOCHS+1):\n",
    "    print(\"Epoch: %i\" %e)\n",
    "    # train model on the training set\n",
    "    dataloader = tud.DataLoader(train_ds, batch_size=BATCH_SZ, shuffle=True, collate_fn=train_ds.getCollateFn())\n",
    "    # enable dropout\n",
    "    vae.train()\n",
    "#     train_scores = {\"ELBO\":[], \"NLL\":[], \"KL\":[]}\n",
    "    for b, batch in enumerate(dataloader):\n",
    "        optimizer.zero_grad()\n",
    "        # compute loss\n",
    "        nll_loss, kl_loss = compute_loss(vae, batch)\n",
    "        kl_w = annealing_func(step, KLW_MIDPOINT, KLW_WIDTH)\n",
    "        loss = nll_loss + kl_w * kl_loss\n",
    "        # compute gradients\n",
    "        loss.backward()\n",
    "        # update weights\n",
    "        optimizer.step()\n",
    "        step += 1\n",
    "        # print training progress\n",
    "        if b % 100 == 0:\n",
    "            print(\"Training batch: %i, ELBO: %.4f, NLL: %.4f, KL div: %.4f, KL weight: %.4f\" % (b, \n",
    "                                   loss.item(), nll_loss.item(), kl_loss.item(), kl_w))\n",
    "    # evaluate on the validation set\n",
    "    dataloader = tud.DataLoader(val_ds, batch_size=BATCH_SZ, shuffle=False, collate_fn=val_ds.getCollateFn())\n",
    "    # disable dropout\n",
    "    vae.eval()\n",
    "    val_scores = {\"ELBO\":[], \"NLL\":[], \"KL\":[]}\n",
    "    for b, batch in enumerate(dataloader):\n",
    "        nll_loss, kl_loss = compute_loss(vae, batch)\n",
    "        loss = nll_loss + kl_loss\n",
    "        val_scores[\"ELBO\"].append(loss.item())\n",
    "        val_scores[\"NLL\"].append(nll_loss.item())\n",
    "        val_scores[\"KL\"].append(kl_loss.item())\n",
    "    val_mean = {k:np.mean(v) for k, v in val_scores.items()}\n",
    "    print(\"Epoch %i validation scores: ELBO: %.4f, NLL: %.4f, KL div: %.4f\" % (e, \n",
    "                                   val_mean[\"ELBO\"], val_mean[\"NLL\"], val_mean[\"KL\"]))\n",
    "\n"
   ]
  },
  {
   "cell_type": "markdown",
   "metadata": {},
   "source": [
    "### Persist trained model"
   ]
  },
  {
   "cell_type": "code",
   "execution_count": 45,
   "metadata": {},
   "outputs": [],
   "source": [
    "torch.save(vae.state_dict(), \"saved_models/gru_vae.pt\")"
   ]
  },
  {
   "cell_type": "markdown",
   "metadata": {},
   "source": [
    "### Load trained model"
   ]
  },
  {
   "cell_type": "code",
   "execution_count": 11,
   "metadata": {},
   "outputs": [
    {
     "data": {
      "text/plain": [
       "MolecularVAE(\n",
       "  (embedding): Embedding(40, 16, padding_idx=0)\n",
       "  (encoder_rnn): GRU(16, 128, num_layers=2, batch_first=True, bidirectional=True)\n",
       "  (hidden2mean): Linear(in_features=512, out_features=128, bias=True)\n",
       "  (hidden2logv): Linear(in_features=512, out_features=128, bias=True)\n",
       "  (latent2hidden): Linear(in_features=128, out_features=256, bias=True)\n",
       "  (embedding_droput): Dropout(p=0.0, inplace=False)\n",
       "  (decoder_rnn): GRU(16, 128, num_layers=2, batch_first=True)\n",
       "  (outputs2vocab): Linear(in_features=128, out_features=40, bias=True)\n",
       ")"
      ]
     },
     "execution_count": 11,
     "metadata": {},
     "output_type": "execute_result"
    }
   ],
   "source": [
    "vae.load_state_dict(torch.load(\"saved_models/gru_vae.pt\"))\n",
    "# set to inference mode\n",
    "vae.eval()"
   ]
  },
  {
   "cell_type": "markdown",
   "metadata": {},
   "source": [
    "## Generate sequences"
   ]
  },
  {
   "cell_type": "markdown",
   "metadata": {},
   "source": [
    "### Prior sampling"
   ]
  },
  {
   "cell_type": "code",
   "execution_count": 12,
   "metadata": {
    "scrolled": true
   },
   "outputs": [],
   "source": [
    "samples = vae.generateSequences(n=32, max_len=150, greedy=False)"
   ]
  },
  {
   "cell_type": "code",
   "execution_count": 13,
   "metadata": {
    "scrolled": true
   },
   "outputs": [
    {
     "data": {
      "text/plain": [
       "['CCCS(=O)(=O)N1CCC(N(C)C2=CCC3)Cc2ccc(F)cc2)CC1',\n",
       " 'Nn1nc2c(cc1-c1ccc(Cl)cc1)c1nc(O)o2',\n",
       " 'COC(=O)c1cc(/N=C/C(=O)N(C)C)c(=O)n11C(=O)NC[N+]([O-]',\n",
       " 'Cc1cccc(C(NC(CSc2nnc(CC3CCCCCCC3)co2)cn1',\n",
       " 'CC(N)c1nc2n(C(C)N)N(C)C)ccc2c1NCc1ccc(C)o1',\n",
       " 'COc1cc(C)c(CNC(=O)CC2CC3)ccc2-n1cnc2sc(C)ccc12',\n",
       " 'O=C(NC[C@@H](Nc2ccc(-c3ccc([N@](=O)[O-])cc3)ncnc21',\n",
       " 'NC(=O)[C@@H]1CC[C@H]2c2ccccc2N1C(=O)C1CCN(NC(C)=O)OCC#O)CCCCC1',\n",
       " 'CCOC(=O)c1sccc1C(=O)N1CCN(S(=O)(=O)c2cccc([O+](=O)[O-])c2)CC1',\n",
       " 'O=C1NC(c2ccccc2C(F)(F)F)P(=O)(O)O',\n",
       " 'CN(CCOC#CCCCCCCN1C(=O)C1=C(CC[N+](=O)[O-])C2=O',\n",
       " 'O=C(O)c1cc(Cl)cc(Cc2ccncn2)c1-c1cn(C2CCC2)co1',\n",
       " 'Cc1nc2c(c(-c3ccccc3)nc3ccc(-c4cc(O)cc(C)c3o4)cc(F)c12',\n",
       " 'Cn1nc(Cl)c(Cl)c1NC(=O)CSc1nnc(C)c1C',\n",
       " 'Cc1ccc(NC(=O)CSc2nc(C)c(C[C@@H](C)O)cn2)cc1OC',\n",
       " 'COC(=O)CC(=O)Oc1ccccc1[N+](=O)[O-]',\n",
       " 'CC(C)(Cc1ccnc[nH]c1)C(c1ccc2ccccc21',\n",
       " 'CC1CCCCC1',\n",
       " 'CCCCCCCCC/[N+](=O)[O-])c1ccc2c(c1)OCCO3)C1=Nc2cccc(F)c2)C1',\n",
       " 'Brc1ccc(I)cc1)Nc1cc(Cl)ccc1O',\n",
       " 'CCO(C)[C@](O)(C)CC[C@H](COC(=O)c1c(C2CCCCC2)nc(Cc2ccc(F)c2)N[C@@](Cc2ccco2)C1=O',\n",
       " 'CC(c1cc(S(C)(=O)=O)cc1NS(=O)(=O)c1ccc(Cl)cc1',\n",
       " 'CC(COC1=C(CC(C)C)C2C1CC1)C(=O)C(C)=C1/C2Cc3ccc(F)cc3)C[C@@]2=C([C@@]2(CCC[C@](O)(C)[C@@]2(C)CCC[C@@H]2C[C@]1(C)O[C@@]12C',\n",
       " 'CCC[C@H](CSc1c[nH]c2ccccc2c1=O',\n",
       " 'CCOc1ccc(NC(=O)(OCNC(=O)COc2ccccc2)C(=O)NCc2ccccc21',\n",
       " 'NC1(C)[C@H]2c3ccccc32)[C@@H]1[C@@H](OC)c1ccccc1',\n",
       " 'O=C1CC(c2nnccc(C#N)ccc3C1)c2cn(C)ccc12',\n",
       " 'O=C(COc1ccc(O)cc1)C(=O)O)c1cccc(Cl)c1',\n",
       " 'CN1CCOCC12CC1)c1ccc2nc(Br)cn2C1',\n",
       " 'O=C(COC(=O)Nc1nnn(C)c1)c1ccc(F)cc1',\n",
       " 'CC(=O)NC(C)(C)C(=O)c1c[nH]c2c1cccc(Br)c1)C(C3=O',\n",
       " 'COc1ccc(-c2cccc(NC(=O)C3S4c4csc(C#N)c3)c3)cc2)cc1']"
      ]
     },
     "execution_count": 13,
     "metadata": {},
     "output_type": "execute_result"
    }
   ],
   "source": [
    "gen_smiles = [tokenizer.untokenize(vocabulary.decode(s)) for s in samples.tolist()]\n",
    "gen_smiles"
   ]
  },
  {
   "cell_type": "code",
   "execution_count": 18,
   "metadata": {},
   "outputs": [
    {
     "data": {
      "image/png": "[encoded data removed]",
      "image/svg+xml": [
       "<?xml version='1.0' encoding='iso-8859-1'?>\n",
       "<svg version='1.1' baseProfile='full'\n",
       "              xmlns='http://www.w3.org/2000/svg'\n",
       "                      xmlns:rdkit='http://www.rdkit.org/xml'\n",
       "                      xmlns:xlink='http://www.w3.org/1999/xlink'\n",
       "                  xml:space='preserve'\n",
       "width='450px' height='150px' viewBox='0 0 450 150'>\n",
       "<!-- END OF HEADER -->\n",
       "<rect style='opacity:1.0;fill:#FFFFFF;stroke:none' width='450' height='150' x='0' y='0'> </rect>\n",
       "<path class='bond-0' d='M 83.6166,83.4176 L 97.9617,90.1747' style='fill:none;fill-rule:evenodd;stroke:#000000;stroke-width:2px;stroke-linecap:butt;stroke-linejoin:miter;stroke-opacity:1' />\n",
       "<path class='bond-0' d='M 97.9617,90.1747 L 112.307,96.9317' style='fill:none;fill-rule:evenodd;stroke:#FF0000;stroke-width:2px;stroke-linecap:butt;stroke-linejoin:miter;stroke-opacity:1' />\n",
       "<path class='bond-1' d='M 124.232,95.5995 L 136.982,86.7454' style='fill:none;fill-rule:evenodd;stroke:#FF0000;stroke-width:2px;stroke-linecap:butt;stroke-linejoin:miter;stroke-opacity:1' />\n",
       "<path class='bond-1' d='M 136.982,86.7454 L 149.732,77.8913' style='fill:none;fill-rule:evenodd;stroke:#000000;stroke-width:2px;stroke-linecap:butt;stroke-linejoin:miter;stroke-opacity:1' />\n",
       "<path class='bond-2' d='M 153.549,77.5723 L 152.22,61.6785' style='fill:none;fill-rule:evenodd;stroke:#000000;stroke-width:2px;stroke-linecap:butt;stroke-linejoin:miter;stroke-opacity:1' />\n",
       "<path class='bond-2' d='M 152.22,61.6785 L 150.892,45.7848' style='fill:none;fill-rule:evenodd;stroke:#FF0000;stroke-width:2px;stroke-linecap:butt;stroke-linejoin:miter;stroke-opacity:1' />\n",
       "<path class='bond-2' d='M 145.915,78.2104 L 144.586,62.3167' style='fill:none;fill-rule:evenodd;stroke:#000000;stroke-width:2px;stroke-linecap:butt;stroke-linejoin:miter;stroke-opacity:1' />\n",
       "<path class='bond-2' d='M 144.586,62.3167 L 143.258,46.4229' style='fill:none;fill-rule:evenodd;stroke:#FF0000;stroke-width:2px;stroke-linecap:butt;stroke-linejoin:miter;stroke-opacity:1' />\n",
       "<path class='bond-3' d='M 149.732,77.8913 L 184.385,94.2139' style='fill:none;fill-rule:evenodd;stroke:#000000;stroke-width:2px;stroke-linecap:butt;stroke-linejoin:miter;stroke-opacity:1' />\n",
       "<path class='bond-4' d='M 184.385,94.2139 L 215.847,72.365' style='fill:none;fill-rule:evenodd;stroke:#000000;stroke-width:2px;stroke-linecap:butt;stroke-linejoin:miter;stroke-opacity:1' />\n",
       "<path class='bond-5' d='M 219.664,72.0459 L 218.335,56.1522' style='fill:none;fill-rule:evenodd;stroke:#000000;stroke-width:2px;stroke-linecap:butt;stroke-linejoin:miter;stroke-opacity:1' />\n",
       "<path class='bond-5' d='M 218.335,56.1522 L 217.007,40.2585' style='fill:none;fill-rule:evenodd;stroke:#FF0000;stroke-width:2px;stroke-linecap:butt;stroke-linejoin:miter;stroke-opacity:1' />\n",
       "<path class='bond-5' d='M 212.03,72.6841 L 210.701,56.7903' style='fill:none;fill-rule:evenodd;stroke:#000000;stroke-width:2px;stroke-linecap:butt;stroke-linejoin:miter;stroke-opacity:1' />\n",
       "<path class='bond-5' d='M 210.701,56.7903 L 209.373,40.8966' style='fill:none;fill-rule:evenodd;stroke:#FF0000;stroke-width:2px;stroke-linecap:butt;stroke-linejoin:miter;stroke-opacity:1' />\n",
       "<path class='bond-6' d='M 215.847,72.365 L 230.192,79.122' style='fill:none;fill-rule:evenodd;stroke:#000000;stroke-width:2px;stroke-linecap:butt;stroke-linejoin:miter;stroke-opacity:1' />\n",
       "<path class='bond-6' d='M 230.192,79.122 L 244.537,85.8791' style='fill:none;fill-rule:evenodd;stroke:#FF0000;stroke-width:2px;stroke-linecap:butt;stroke-linejoin:miter;stroke-opacity:1' />\n",
       "<path class='bond-7' d='M 256.462,84.5469 L 269.212,75.6928' style='fill:none;fill-rule:evenodd;stroke:#FF0000;stroke-width:2px;stroke-linecap:butt;stroke-linejoin:miter;stroke-opacity:1' />\n",
       "<path class='bond-7' d='M 269.212,75.6928 L 281.962,66.8387' style='fill:none;fill-rule:evenodd;stroke:#000000;stroke-width:2px;stroke-linecap:butt;stroke-linejoin:miter;stroke-opacity:1' />\n",
       "<path class='bond-8' d='M 281.962,66.8387 L 278.771,28.6671' style='fill:none;fill-rule:evenodd;stroke:#000000;stroke-width:2px;stroke-linecap:butt;stroke-linejoin:miter;stroke-opacity:1' />\n",
       "<path class='bond-8' d='M 289.118,60.4748 L 286.884,33.7547' style='fill:none;fill-rule:evenodd;stroke:#000000;stroke-width:2px;stroke-linecap:butt;stroke-linejoin:miter;stroke-opacity:1' />\n",
       "<path class='bond-16' d='M 281.962,66.8387 L 316.615,83.1613' style='fill:none;fill-rule:evenodd;stroke:#000000;stroke-width:2px;stroke-linecap:butt;stroke-linejoin:miter;stroke-opacity:1' />\n",
       "<path class='bond-9' d='M 278.771,28.6671 L 310.233,6.81818' style='fill:none;fill-rule:evenodd;stroke:#000000;stroke-width:2px;stroke-linecap:butt;stroke-linejoin:miter;stroke-opacity:1' />\n",
       "<path class='bond-10' d='M 310.233,6.81818 L 344.886,23.1408' style='fill:none;fill-rule:evenodd;stroke:#000000;stroke-width:2px;stroke-linecap:butt;stroke-linejoin:miter;stroke-opacity:1' />\n",
       "<path class='bond-10' d='M 312.167,16.1971 L 336.424,27.623' style='fill:none;fill-rule:evenodd;stroke:#000000;stroke-width:2px;stroke-linecap:butt;stroke-linejoin:miter;stroke-opacity:1' />\n",
       "<path class='bond-11' d='M 344.886,23.1408 L 348.077,61.3124' style='fill:none;fill-rule:evenodd;stroke:#000000;stroke-width:2px;stroke-linecap:butt;stroke-linejoin:miter;stroke-opacity:1' />\n",
       "<path class='bond-12' d='M 348.077,61.3124 L 316.615,83.1613' style='fill:none;fill-rule:evenodd;stroke:#000000;stroke-width:2px;stroke-linecap:butt;stroke-linejoin:miter;stroke-opacity:1' />\n",
       "<path class='bond-12' d='M 338.988,58.2973 L 316.964,73.5915' style='fill:none;fill-rule:evenodd;stroke:#000000;stroke-width:2px;stroke-linecap:butt;stroke-linejoin:miter;stroke-opacity:1' />\n",
       "<path class='bond-13' d='M 316.615,83.1613 L 317.917,98.7358' style='fill:none;fill-rule:evenodd;stroke:#000000;stroke-width:2px;stroke-linecap:butt;stroke-linejoin:miter;stroke-opacity:1' />\n",
       "<path class='bond-13' d='M 317.917,98.7358 L 319.218,114.31' style='fill:none;fill-rule:evenodd;stroke:#0000FF;stroke-width:2px;stroke-linecap:butt;stroke-linejoin:miter;stroke-opacity:1' />\n",
       "<path class='bond-14' d='M 325.944,128.459 L 336.404,133.385' style='fill:none;fill-rule:evenodd;stroke:#0000FF;stroke-width:2px;stroke-linecap:butt;stroke-linejoin:miter;stroke-opacity:1' />\n",
       "<path class='bond-14' d='M 336.404,133.385 L 346.863,138.312' style='fill:none;fill-rule:evenodd;stroke:#FF0000;stroke-width:2px;stroke-linecap:butt;stroke-linejoin:miter;stroke-opacity:1' />\n",
       "<path class='bond-14' d='M 329.209,121.528 L 339.668,126.455' style='fill:none;fill-rule:evenodd;stroke:#0000FF;stroke-width:2px;stroke-linecap:butt;stroke-linejoin:miter;stroke-opacity:1' />\n",
       "<path class='bond-14' d='M 339.668,126.455 L 350.128,131.382' style='fill:none;fill-rule:evenodd;stroke:#FF0000;stroke-width:2px;stroke-linecap:butt;stroke-linejoin:miter;stroke-opacity:1' />\n",
       "<path class='bond-15' d='M 312.034,126.73 L 303.808,132.442' style='fill:none;fill-rule:evenodd;stroke:#0000FF;stroke-width:2px;stroke-linecap:butt;stroke-linejoin:miter;stroke-opacity:1' />\n",
       "<path class='bond-15' d='M 303.808,132.442 L 295.582,138.155' style='fill:none;fill-rule:evenodd;stroke:#FF0000;stroke-width:2px;stroke-linecap:butt;stroke-linejoin:miter;stroke-opacity:1' />\n",
       "<text x='112.307' y='106.124' style='font-size:12px;font-style:normal;font-weight:normal;fill-opacity:1;stroke:none;font-family:sans-serif;text-anchor:start;fill:#FF0000' ><tspan>O</tspan></text>\n",
       "<text x='140.578' y='46.1039' style='font-size:12px;font-style:normal;font-weight:normal;fill-opacity:1;stroke:none;font-family:sans-serif;text-anchor:start;fill:#FF0000' ><tspan>O</tspan></text>\n",
       "<text x='206.694' y='40.5776' style='font-size:12px;font-style:normal;font-weight:normal;fill-opacity:1;stroke:none;font-family:sans-serif;text-anchor:start;fill:#FF0000' ><tspan>O</tspan></text>\n",
       "<text x='244.537' y='95.0717' style='font-size:12px;font-style:normal;font-weight:normal;fill-opacity:1;stroke:none;font-family:sans-serif;text-anchor:start;fill:#FF0000' ><tspan>O</tspan></text>\n",
       "<text x='312.034' y='128.355' style='font-size:12px;font-style:normal;font-weight:normal;fill-opacity:1;stroke:none;font-family:sans-serif;text-anchor:start;fill:#0000FF' ><tspan>N</tspan><tspan style='baseline-shift:super;font-size:9px;'>+</tspan><tspan></tspan></text>\n",
       "<text x='348.496' y='144.04' style='font-size:12px;font-style:normal;font-weight:normal;fill-opacity:1;stroke:none;font-family:sans-serif;text-anchor:start;fill:#FF0000' ><tspan>O</tspan></text>\n",
       "<text x='281.104' y='150.204' style='font-size:12px;font-style:normal;font-weight:normal;fill-opacity:1;stroke:none;font-family:sans-serif;text-anchor:start;fill:#FF0000' ><tspan>O</tspan><tspan style='baseline-shift:super;font-size:9px;'>-</tspan><tspan></tspan></text>\n",
       "</svg>\n"
      ],
      "text/plain": [
       "<rdkit.Chem.rdchem.Mol at 0x7f9e7001d490>"
      ]
     },
     "execution_count": 18,
     "metadata": {},
     "output_type": "execute_result"
    }
   ],
   "source": [
    "Chem.MolFromSmiles(gen_smiles[15])"
   ]
  },
  {
   "cell_type": "code",
   "execution_count": 15,
   "metadata": {
    "scrolled": true
   },
   "outputs": [
    {
     "name": "stderr",
     "output_type": "stream",
     "text": [
      "RDKit ERROR: [18:20:59] SMILES Parse Error: extra close parentheses while parsing: CCCS(=O)(=O)N1CCC(N(C)C2=CCC3)Cc2ccc(F)cc2)CC1\n",
      "RDKit ERROR: [18:20:59] \n",
      "RDKit ERROR: \n",
      "RDKit ERROR: ****\n",
      "RDKit ERROR: Pre-condition Violation\n",
      "RDKit ERROR: no atoms\n",
      "RDKit ERROR: Violation occurred on line 173 in file /opt/conda/conda-bld/rdkit_1571980026485/work/Code/GraphMol/ROMol.cpp\n",
      "RDKit ERROR: Failed Expression: getNumAtoms() > 0\n",
      "RDKit ERROR: ****\n",
      "RDKit ERROR: \n",
      "RDKit ERROR: [18:20:59] SMILES Parse Error: unclosed ring for input: 'Nn1nc2c(cc1-c1ccc(Cl)cc1)c1nc(O)o2'\n",
      "RDKit ERROR: [18:20:59] SMILES Parse Error: extra open parentheses for input: 'COC(=O)c1cc(/N=C/C(=O)N(C)C)c(=O)n11C(=O)NC[N+]([O-]'\n",
      "RDKit ERROR: [18:20:59] SMILES Parse Error: extra open parentheses for input: 'Cc1cccc(C(NC(CSc2nnc(CC3CCCCCCC3)co2)cn1'\n",
      "RDKit ERROR: [18:20:59] SMILES Parse Error: extra close parentheses while parsing: CC(N)c1nc2n(C(C)N)N(C)C)ccc2c1NCc1ccc(C)o1\n",
      "RDKit ERROR: [18:20:59] \n",
      "RDKit ERROR: \n",
      "RDKit ERROR: ****\n",
      "RDKit ERROR: Pre-condition Violation\n",
      "RDKit ERROR: no atoms\n",
      "RDKit ERROR: Violation occurred on line 173 in file /opt/conda/conda-bld/rdkit_1571980026485/work/Code/GraphMol/ROMol.cpp\n",
      "RDKit ERROR: Failed Expression: getNumAtoms() > 0\n",
      "RDKit ERROR: ****\n",
      "RDKit ERROR: \n",
      "RDKit ERROR: [18:20:59] SMILES Parse Error: unclosed ring for input: 'COc1cc(C)c(CNC(=O)CC2CC3)ccc2-n1cnc2sc(C)ccc12'\n",
      "RDKit ERROR: [18:20:59] SMILES Parse Error: extra open parentheses for input: 'O=C(NC[C@@H](Nc2ccc(-c3ccc([N@](=O)[O-])cc3)ncnc21'\n",
      "RDKit ERROR: [18:20:59] SMILES Parse Error: extra close parentheses while parsing: NC(=O)[C@@H]1CC[C@H]2c2ccccc2N1C(=O)C1CCN(NC(C)=O)OCC#O)CCCCC1\n",
      "RDKit ERROR: [18:20:59] \n",
      "RDKit ERROR: \n",
      "RDKit ERROR: ****\n",
      "RDKit ERROR: Pre-condition Violation\n",
      "RDKit ERROR: no atoms\n",
      "RDKit ERROR: Violation occurred on line 173 in file /opt/conda/conda-bld/rdkit_1571980026485/work/Code/GraphMol/ROMol.cpp\n",
      "RDKit ERROR: Failed Expression: getNumAtoms() > 0\n",
      "RDKit ERROR: ****\n",
      "RDKit ERROR: \n",
      "RDKit ERROR: [18:20:59] Explicit valence for atom # 24 O, 3, is greater than permitted\n",
      "RDKit ERROR: [18:20:59] SMILES Parse Error: unclosed ring for input: 'O=C1NC(c2ccccc2C(F)(F)F)P(=O)(O)O'\n",
      "RDKit ERROR: [18:20:59] SMILES Parse Error: extra open parentheses for input: 'CN(CCOC#CCCCCCCN1C(=O)C1=C(CC[N+](=O)[O-])C2=O'\n",
      "RDKit ERROR: [18:20:59] Can't kekulize mol.  Unkekulized atoms: 17 18 24\n",
      "RDKit ERROR: \n",
      "RDKit ERROR: [18:20:59] SMILES Parse Error: extra open parentheses for input: 'Cc1nc2c(c(-c3ccccc3)nc3ccc(-c4cc(O)cc(C)c3o4)cc(F)c12'\n",
      "RDKit ERROR: [18:20:59] Can't kekulize mol.  Unkekulized atoms: 13 14 15 16 18\n",
      "RDKit ERROR: \n",
      "RDKit ERROR: [18:20:59] SMILES Parse Error: extra open parentheses for input: 'CC(C)(Cc1ccnc[nH]c1)C(c1ccc2ccccc21'\n",
      "RDKit ERROR: [18:20:59] SMILES Parse Error: extra close parentheses while parsing: CCCCCCCCC/[N+](=O)[O-])c1ccc2c(c1)OCCO3)C1=Nc2cccc(F)c2)C1\n",
      "RDKit ERROR: [18:20:59] \n",
      "RDKit ERROR: \n",
      "RDKit ERROR: ****\n",
      "RDKit ERROR: Pre-condition Violation\n",
      "RDKit ERROR: no atoms\n",
      "RDKit ERROR: Violation occurred on line 173 in file /opt/conda/conda-bld/rdkit_1571980026485/work/Code/GraphMol/ROMol.cpp\n",
      "RDKit ERROR: Failed Expression: getNumAtoms() > 0\n",
      "RDKit ERROR: ****\n",
      "RDKit ERROR: \n",
      "RDKit ERROR: [18:20:59] SMILES Parse Error: extra close parentheses while parsing: Brc1ccc(I)cc1)Nc1cc(Cl)ccc1O\n",
      "RDKit ERROR: [18:20:59] \n",
      "RDKit ERROR: \n",
      "RDKit ERROR: ****\n",
      "RDKit ERROR: Pre-condition Violation\n",
      "RDKit ERROR: no atoms\n",
      "RDKit ERROR: Violation occurred on line 173 in file /opt/conda/conda-bld/rdkit_1571980026485/work/Code/GraphMol/ROMol.cpp\n",
      "RDKit ERROR: Failed Expression: getNumAtoms() > 0\n",
      "RDKit ERROR: ****\n",
      "RDKit ERROR: \n",
      "RDKit ERROR: [18:20:59] SMILES Parse Error: extra open parentheses for input: 'CCO(C)[C@](O)(C)CC[C@H](COC(=O)c1c(C2CCCCC2)nc(Cc2ccc(F)c2)N[C@@](Cc2ccco2)C1=O'\n",
      "RDKit ERROR: [18:20:59] SMILES Parse Error: extra open parentheses for input: 'CC(c1cc(S(C)(=O)=O)cc1NS(=O)(=O)c1ccc(Cl)cc1'\n",
      "RDKit ERROR: [18:20:59] SMILES Parse Error: extra close parentheses while parsing: CC(COC1=C(CC(C)C)C2C1CC1)C(=O)C(C)=C1/C2Cc3ccc(F)cc3)C[C@@]2=C([C@@]2(CCC[C@](O)(C)[C@@]2(C)CCC[C@@H]2C[C@]1(C)O[C@@]12C\n",
      "RDKit ERROR: [18:20:59] \n",
      "RDKit ERROR: \n",
      "RDKit ERROR: ****\n",
      "RDKit ERROR: Pre-condition Violation\n",
      "RDKit ERROR: no atoms\n",
      "RDKit ERROR: Violation occurred on line 173 in file /opt/conda/conda-bld/rdkit_1571980026485/work/Code/GraphMol/ROMol.cpp\n",
      "RDKit ERROR: Failed Expression: getNumAtoms() > 0\n",
      "RDKit ERROR: ****\n",
      "RDKit ERROR: \n",
      "RDKit ERROR: [18:20:59] SMILES Parse Error: extra open parentheses for input: 'CCC[C@H](CSc1c[nH]c2ccccc2c1=O'\n",
      "RDKit ERROR: [18:20:59] SMILES Parse Error: extra open parentheses for input: 'CCOc1ccc(NC(=O)(OCNC(=O)COc2ccccc2)C(=O)NCc2ccccc21'\n",
      "RDKit ERROR: [18:20:59] SMILES Parse Error: extra close parentheses while parsing: NC1(C)[C@H]2c3ccccc32)[C@@H]1[C@@H](OC)c1ccccc1\n",
      "RDKit ERROR: [18:20:59] \n",
      "RDKit ERROR: \n",
      "RDKit ERROR: ****\n",
      "RDKit ERROR: Pre-condition Violation\n",
      "RDKit ERROR: no atoms\n",
      "RDKit ERROR: Violation occurred on line 173 in file /opt/conda/conda-bld/rdkit_1571980026485/work/Code/GraphMol/ROMol.cpp\n",
      "RDKit ERROR: Failed Expression: getNumAtoms() > 0\n",
      "RDKit ERROR: ****\n",
      "RDKit ERROR: \n",
      "RDKit ERROR: [18:20:59] SMILES Parse Error: unclosed ring for input: 'O=C1CC(c2nnccc(C#N)ccc3C1)c2cn(C)ccc12'\n",
      "RDKit ERROR: [18:20:59] SMILES Parse Error: extra close parentheses while parsing: O=C(COc1ccc(O)cc1)C(=O)O)c1cccc(Cl)c1\n",
      "RDKit ERROR: [18:20:59] \n",
      "RDKit ERROR: \n",
      "RDKit ERROR: ****\n",
      "RDKit ERROR: Pre-condition Violation\n",
      "RDKit ERROR: no atoms\n",
      "RDKit ERROR: Violation occurred on line 173 in file /opt/conda/conda-bld/rdkit_1571980026485/work/Code/GraphMol/ROMol.cpp\n",
      "RDKit ERROR: Failed Expression: getNumAtoms() > 0\n",
      "RDKit ERROR: ****\n",
      "RDKit ERROR: \n",
      "RDKit ERROR: [18:20:59] SMILES Parse Error: extra close parentheses while parsing: CN1CCOCC12CC1)c1ccc2nc(Br)cn2C1\n",
      "RDKit ERROR: [18:20:59] \n",
      "RDKit ERROR: \n",
      "RDKit ERROR: ****\n",
      "RDKit ERROR: Pre-condition Violation\n",
      "RDKit ERROR: no atoms\n",
      "RDKit ERROR: Violation occurred on line 173 in file /opt/conda/conda-bld/rdkit_1571980026485/work/Code/GraphMol/ROMol.cpp\n",
      "RDKit ERROR: Failed Expression: getNumAtoms() > 0\n",
      "RDKit ERROR: ****\n",
      "RDKit ERROR: \n",
      "RDKit ERROR: [18:20:59] SMILES Parse Error: extra close parentheses while parsing: CC(=O)NC(C)(C)C(=O)c1c[nH]c2c1cccc(Br)c1)C(C3=O\n",
      "RDKit ERROR: [18:20:59] \n",
      "RDKit ERROR: \n",
      "RDKit ERROR: ****\n",
      "RDKit ERROR: Pre-condition Violation\n",
      "RDKit ERROR: no atoms\n",
      "RDKit ERROR: Violation occurred on line 173 in file /opt/conda/conda-bld/rdkit_1571980026485/work/Code/GraphMol/ROMol.cpp\n",
      "RDKit ERROR: Failed Expression: getNumAtoms() > 0\n",
      "RDKit ERROR: ****\n",
      "RDKit ERROR: \n",
      "RDKit ERROR: [18:20:59] SMILES Parse Error: extra close parentheses while parsing: COc1ccc(-c2cccc(NC(=O)C3S4c4csc(C#N)c3)c3)cc2)cc1\n"
     ]
    }
   ],
   "source": [
    "gen_mols = [Chem.MolFromSmiles(s) for s in gen_smiles]"
   ]
  },
  {
   "cell_type": "code",
   "execution_count": 16,
   "metadata": {},
   "outputs": [
    {
     "data": {
      "text/plain": [
       "[None,\n",
       " None,\n",
       " None,\n",
       " None,\n",
       " None,\n",
       " None,\n",
       " None,\n",
       " None,\n",
       " None,\n",
       " None,\n",
       " None,\n",
       " None,\n",
       " None,\n",
       " None,\n",
       " <rdkit.Chem.rdchem.Mol at 0x7f9e700a2a30>,\n",
       " <rdkit.Chem.rdchem.Mol at 0x7f9e700a2e40>,\n",
       " None,\n",
       " <rdkit.Chem.rdchem.Mol at 0x7f9e700a2e90>,\n",
       " None,\n",
       " None,\n",
       " None,\n",
       " None,\n",
       " None,\n",
       " None,\n",
       " None,\n",
       " None,\n",
       " None,\n",
       " None,\n",
       " None,\n",
       " <rdkit.Chem.rdchem.Mol at 0x7f9e7001d0d0>,\n",
       " None,\n",
       " None]"
      ]
     },
     "execution_count": 16,
     "metadata": {},
     "output_type": "execute_result"
    }
   ],
   "source": [
    "gen_mols"
   ]
  },
  {
   "cell_type": "markdown",
   "metadata": {},
   "source": [
    "### Posterior sampling"
   ]
  },
  {
   "cell_type": "code",
   "execution_count": 17,
   "metadata": {},
   "outputs": [
    {
     "data": {
      "text/plain": [
       "'O=C(/C=C/c1ccc2c(c1)C(=O)N(Cc1ccccc1)C1(CCNCC1)O2)NO'"
      ]
     },
     "execution_count": 17,
     "metadata": {},
     "output_type": "execute_result"
    }
   ],
   "source": [
    "# try sampling from a posterior of a sample from the test set\n",
    "tokenizer.untokenize(vocabulary.decode(test_ds[0].tolist()))"
   ]
  },
  {
   "cell_type": "code",
   "execution_count": 18,
   "metadata": {},
   "outputs": [],
   "source": [
    "logp, z, mean, logv = vae(test_ds[0].reshape(1, -1))"
   ]
  },
  {
   "cell_type": "code",
   "execution_count": 21,
   "metadata": {},
   "outputs": [
    {
     "data": {
      "text/plain": [
       "torch.Size([4, 128])"
      ]
     },
     "execution_count": 21,
     "metadata": {},
     "output_type": "execute_result"
    }
   ],
   "source": [
    "z.repeat(4, 1).shape"
   ]
  },
  {
   "cell_type": "code",
   "execution_count": 22,
   "metadata": {},
   "outputs": [
    {
     "data": {
      "text/plain": [
       "tensor([[ 1, 23, 23,  ...,  0,  0,  0],\n",
       "        [ 1, 23, 23,  ...,  0,  0,  0],\n",
       "        [ 1, 23, 23,  ...,  0,  0,  0],\n",
       "        ...,\n",
       "        [ 1, 23, 29,  ...,  0,  0,  0],\n",
       "        [ 1, 25, 35,  ...,  0,  0,  0],\n",
       "        [ 1, 23, 23,  ...,  0,  0,  0]])"
      ]
     },
     "execution_count": 22,
     "metadata": {},
     "output_type": "execute_result"
    }
   ],
   "source": [
    "samples2 = vae.generateSequences(z=z.repeat(16, 1), max_len=150, greedy=False)\n",
    "samples2"
   ]
  },
  {
   "cell_type": "code",
   "execution_count": 23,
   "metadata": {},
   "outputs": [
    {
     "data": {
      "text/plain": [
       "['CC(C)NCn1c(C[C@@H](N)Cc2ccco2)no1',\n",
       " 'CCC1(C)[C@H]1CCCN(CCc1cccc(OP(C)(=O)=O)c1)C(S)C',\n",
       " 'CCCN1CCC2(CCS(S(=O)(=O)c3ccccc3-2)C(=O)c2ccccc2)C(=O)N1',\n",
       " 'O=C(Cc1ccc(Br)c(Cl)c1)N(C(=O)c1ccccc1)C12CC3CN(C(=O)N[C@H]3C=CCC4)C1',\n",
       " 'CC(C)c1cc(c2cc(=O)c3c(c1CC(=O)O)C12CCCCC32',\n",
       " 'CC(C)Cc1ccc(-c2cccc(-n3nc(C)c(OC)c3)cc2)s1',\n",
       " 'CN(C[C@@H]1CC[C@H](CC)CCCNC(=O)c2ccc(N(C)C)cc1)C(=O)OC2N(CCNC1CC[C@@H]2CO[C@H](CO)[C@@H]1CCCC1)C(=O)N2',\n",
       " 'CC1=CNCCN(CCOCC=O)(C(=O)Nc2ccccc2)(F)N1Cc1ccccc1',\n",
       " 'CC(O)=CC[C@@H](Cc1ccccc1)C1',\n",
       " 'O=P1(O)C2(C)CCC1C(N)=O',\n",
       " 'COP(=O)(Oc1ccccc1-c1cccnc1)c1cc(Br)cc(CO)n1',\n",
       " 'CCc1nn(-c2ccccc2)s1',\n",
       " 'COCCNS(=O)(=O)c1ccc(/C=C/C(=O)COC2O)o1',\n",
       " 'CO[C@@H]1CCC[C@]2(O)Cc2cc(Cc3c(cccc3[N+](=O)[O-])CC2)ccc1O',\n",
       " 'Fc1ccc(CNC(=O)CCCN2CCOCC2)cc(OCCNC)c1',\n",
       " 'CCOC(=O)Nc1c(C(=N)N)c(CCNC(=O)COC2=O)c2c(c(C)c3c1OCC3)CC(=O)c1ccccc1']"
      ]
     },
     "execution_count": 23,
     "metadata": {},
     "output_type": "execute_result"
    }
   ],
   "source": [
    "gen_mols2 = [tokenizer.untokenize(vocabulary.decode(s)) for s in samples2.tolist()]\n",
    "gen_mols2"
   ]
  },
  {
   "cell_type": "code",
   "execution_count": null,
   "metadata": {},
   "outputs": [],
   "source": []
  }
 ],
 "metadata": {
  "kernelspec": {
   "display_name": "Python 3",
   "language": "python",
   "name": "python3"
  },
  "language_info": {
   "codemirror_mode": {
    "name": "ipython",
    "version": 3
   },
   "file_extension": ".py",
   "mimetype": "text/x-python",
   "name": "python",
   "nbconvert_exporter": "python",
   "pygments_lexer": "ipython3",
   "version": "3.7.3"
  },
  "toc": {
   "base_numbering": 1,
   "nav_menu": {},
   "number_sections": false,
   "sideBar": true,
   "skip_h1_title": false,
   "title_cell": "Table of Contents",
   "title_sidebar": "Contents",
   "toc_cell": false,
   "toc_position": {
    "height": "calc(100% - 180px)",
    "left": "10px",
    "top": "150px",
    "width": "341.875px"
   },
   "toc_section_display": true,
   "toc_window_display": true
  }
 },
 "nbformat": 4,
 "nbformat_minor": 2
}
