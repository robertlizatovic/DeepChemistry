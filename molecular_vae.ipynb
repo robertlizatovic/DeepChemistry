{
 "cells": [
  {
   "cell_type": "markdown",
   "metadata": {},
   "source": [
    "# Molecular VAE"
   ]
  },
  {
   "cell_type": "code",
   "execution_count": 1,
   "metadata": {},
   "outputs": [
    {
     "name": "stderr",
     "output_type": "stream",
     "text": [
      "RDKit WARNING: [15:15:54] Enabling RDKit 2019.09.1 jupyter extensions\n"
     ]
    }
   ],
   "source": [
    "# packages\n",
    "import pandas as pd\n",
    "import numpy as np\n",
    "import tqdm\n",
    "import torch\n",
    "import torch.utils.data as tud\n",
    "from torch import nn\n",
    "from torch.nn import functional as F\n",
    "from sklearn.model_selection import train_test_split\n",
    "\n",
    "# project modules\n",
    "from utils import SMILESTokenizer, SMILESVocabulary, SMILESDataset, countTokens\n",
    "from models import MolecularVAE\n",
    "\n",
    "# plotting\n",
    "import matplotlib.pyplot as plt\n",
    "import seaborn as sns\n",
    "\n",
    "# chemistry\n",
    "from rdkit import Chem\n",
    "from rdkit.Chem import Draw\n",
    "from rdkit.Chem.Draw import IPythonConsole\n",
    "IPythonConsole.ipython_useSVG=True  #set this to False if you want PNGs instead of SVGs"
   ]
  },
  {
   "cell_type": "markdown",
   "metadata": {},
   "source": [
    "## Load data"
   ]
  },
  {
   "cell_type": "code",
   "execution_count": 2,
   "metadata": {},
   "outputs": [
    {
     "data": {
      "text/html": [
       "<div>\n",
       "<style scoped>\n",
       "    .dataframe tbody tr th:only-of-type {\n",
       "        vertical-align: middle;\n",
       "    }\n",
       "\n",
       "    .dataframe tbody tr th {\n",
       "        vertical-align: top;\n",
       "    }\n",
       "\n",
       "    .dataframe thead th {\n",
       "        text-align: right;\n",
       "    }\n",
       "</style>\n",
       "<table border=\"1\" class=\"dataframe\">\n",
       "  <thead>\n",
       "    <tr style=\"text-align: right;\">\n",
       "      <th></th>\n",
       "      <th>ChEMBL ID</th>\n",
       "      <th>Smiles</th>\n",
       "      <th>AlogP</th>\n",
       "      <th>QED Weighted</th>\n",
       "    </tr>\n",
       "  </thead>\n",
       "  <tbody>\n",
       "    <tr>\n",
       "      <th>0</th>\n",
       "      <td>CHEMBL2333117</td>\n",
       "      <td>CC(C)Nc1c(C(N)=O)nnc2ccc(-c3cnn(C)c3)cc12</td>\n",
       "      <td>1.95</td>\n",
       "      <td>0.77</td>\n",
       "    </tr>\n",
       "    <tr>\n",
       "      <th>1</th>\n",
       "      <td>CHEMBL1189585</td>\n",
       "      <td>CC1C(=O)NC2=Nc3sc4c(c3CN21)CCCC4</td>\n",
       "      <td>1.95</td>\n",
       "      <td>0.78</td>\n",
       "    </tr>\n",
       "    <tr>\n",
       "      <th>2</th>\n",
       "      <td>CHEMBL4089494</td>\n",
       "      <td>CNC(=O)c1ccc(NC(=O)Nc2ccc(-c3nc(N4CCOCC4)c4ncc...</td>\n",
       "      <td>3.53</td>\n",
       "      <td>0.40</td>\n",
       "    </tr>\n",
       "    <tr>\n",
       "      <th>3</th>\n",
       "      <td>CHEMBL1189590</td>\n",
       "      <td>CN(C)c1nccc2c1nnn2Cc1ccccc1F</td>\n",
       "      <td>2.08</td>\n",
       "      <td>0.73</td>\n",
       "    </tr>\n",
       "    <tr>\n",
       "      <th>4</th>\n",
       "      <td>CHEMBL3927722</td>\n",
       "      <td>Cc1noc(C)c1Cn1cc(NC(=O)Cc2ccco2)cn1</td>\n",
       "      <td>2.31</td>\n",
       "      <td>0.78</td>\n",
       "    </tr>\n",
       "  </tbody>\n",
       "</table>\n",
       "</div>"
      ],
      "text/plain": [
       "       ChEMBL ID                                             Smiles  AlogP  \\\n",
       "0  CHEMBL2333117          CC(C)Nc1c(C(N)=O)nnc2ccc(-c3cnn(C)c3)cc12   1.95   \n",
       "1  CHEMBL1189585                   CC1C(=O)NC2=Nc3sc4c(c3CN21)CCCC4   1.95   \n",
       "2  CHEMBL4089494  CNC(=O)c1ccc(NC(=O)Nc2ccc(-c3nc(N4CCOCC4)c4ncc...   3.53   \n",
       "3  CHEMBL1189590                       CN(C)c1nccc2c1nnn2Cc1ccccc1F   2.08   \n",
       "4  CHEMBL3927722                Cc1noc(C)c1Cn1cc(NC(=O)Cc2ccco2)cn1   2.31   \n",
       "\n",
       "   QED Weighted  \n",
       "0          0.77  \n",
       "1          0.78  \n",
       "2          0.40  \n",
       "3          0.73  \n",
       "4          0.78  "
      ]
     },
     "execution_count": 2,
     "metadata": {},
     "output_type": "execute_result"
    }
   ],
   "source": [
    "chembl = pd.read_csv(\"data/cleaned_dataset.csv\")\n",
    "chembl.head()"
   ]
  },
  {
   "cell_type": "markdown",
   "metadata": {},
   "source": [
    "## Data preparation & encoding\n",
    "\n",
    "Steps to prepare VAE input data:\n",
    "1. SMILES tokenization (add start/end tokens)\n",
    "2. SMILES token encoding (convert to integer indecies) -> build a vocabulary\n",
    "3. Set up a SMILES dataset class (for feeding batches of data to the VAE)"
   ]
  },
  {
   "cell_type": "markdown",
   "metadata": {},
   "source": [
    "### Build a vocabulary"
   ]
  },
  {
   "cell_type": "code",
   "execution_count": 3,
   "metadata": {},
   "outputs": [],
   "source": [
    "tokenizer = SMILESTokenizer()\n",
    "vocabulary = SMILESVocabulary()"
   ]
  },
  {
   "cell_type": "code",
   "execution_count": 4,
   "metadata": {},
   "outputs": [],
   "source": [
    "# vocabulary.build(chembl[\"Smiles\"], tokenizer)"
   ]
  },
  {
   "cell_type": "code",
   "execution_count": 5,
   "metadata": {},
   "outputs": [],
   "source": [
    "# # save vocabulary\n",
    "# vocabulary.save(\"data/vocabulary.csv\")"
   ]
  },
  {
   "cell_type": "code",
   "execution_count": 4,
   "metadata": {},
   "outputs": [],
   "source": [
    "# load vocabulary\n",
    "vocabulary.load(\"data/vocabulary.csv\")"
   ]
  },
  {
   "cell_type": "markdown",
   "metadata": {},
   "source": [
    "### Analyze token frequencies"
   ]
  },
  {
   "cell_type": "code",
   "execution_count": 11,
   "metadata": {
    "scrolled": true
   },
   "outputs": [
    {
     "data": {
      "text/html": [
       "<div>\n",
       "<style scoped>\n",
       "    .dataframe tbody tr th:only-of-type {\n",
       "        vertical-align: middle;\n",
       "    }\n",
       "\n",
       "    .dataframe tbody tr th {\n",
       "        vertical-align: top;\n",
       "    }\n",
       "\n",
       "    .dataframe thead th {\n",
       "        text-align: right;\n",
       "    }\n",
       "</style>\n",
       "<table border=\"1\" class=\"dataframe\">\n",
       "  <thead>\n",
       "    <tr style=\"text-align: right;\">\n",
       "      <th></th>\n",
       "      <th>token</th>\n",
       "      <th>cnt</th>\n",
       "    </tr>\n",
       "  </thead>\n",
       "  <tbody>\n",
       "    <tr>\n",
       "      <th>0</th>\n",
       "      <td>C</td>\n",
       "      <td>12896279</td>\n",
       "    </tr>\n",
       "    <tr>\n",
       "      <th>1</th>\n",
       "      <td>(</td>\n",
       "      <td>7025189</td>\n",
       "    </tr>\n",
       "    <tr>\n",
       "      <th>2</th>\n",
       "      <td>)</td>\n",
       "      <td>7025189</td>\n",
       "    </tr>\n",
       "    <tr>\n",
       "      <th>3</th>\n",
       "      <td>N</td>\n",
       "      <td>2682981</td>\n",
       "    </tr>\n",
       "    <tr>\n",
       "      <th>4</th>\n",
       "      <td>c</td>\n",
       "      <td>18431345</td>\n",
       "    </tr>\n",
       "    <tr>\n",
       "      <th>5</th>\n",
       "      <td>1</td>\n",
       "      <td>4604265</td>\n",
       "    </tr>\n",
       "    <tr>\n",
       "      <th>6</th>\n",
       "      <td>=</td>\n",
       "      <td>2904352</td>\n",
       "    </tr>\n",
       "    <tr>\n",
       "      <th>7</th>\n",
       "      <td>O</td>\n",
       "      <td>4388805</td>\n",
       "    </tr>\n",
       "    <tr>\n",
       "      <th>8</th>\n",
       "      <td>n</td>\n",
       "      <td>2124346</td>\n",
       "    </tr>\n",
       "    <tr>\n",
       "      <th>9</th>\n",
       "      <td>2</td>\n",
       "      <td>3590237</td>\n",
       "    </tr>\n",
       "    <tr>\n",
       "      <th>10</th>\n",
       "      <td>-</td>\n",
       "      <td>576826</td>\n",
       "    </tr>\n",
       "    <tr>\n",
       "      <th>11</th>\n",
       "      <td>3</td>\n",
       "      <td>1781615</td>\n",
       "    </tr>\n",
       "    <tr>\n",
       "      <th>12</th>\n",
       "      <td>s</td>\n",
       "      <td>190809</td>\n",
       "    </tr>\n",
       "    <tr>\n",
       "      <th>13</th>\n",
       "      <td>4</td>\n",
       "      <td>530543</td>\n",
       "    </tr>\n",
       "    <tr>\n",
       "      <th>14</th>\n",
       "      <td>F</td>\n",
       "      <td>577815</td>\n",
       "    </tr>\n",
       "    <tr>\n",
       "      <th>15</th>\n",
       "      <td>o</td>\n",
       "      <td>190476</td>\n",
       "    </tr>\n",
       "    <tr>\n",
       "      <th>16</th>\n",
       "      <td>Cl</td>\n",
       "      <td>340814</td>\n",
       "    </tr>\n",
       "    <tr>\n",
       "      <th>17</th>\n",
       "      <td>[</td>\n",
       "      <td>1253085</td>\n",
       "    </tr>\n",
       "    <tr>\n",
       "      <th>18</th>\n",
       "      <td>@</td>\n",
       "      <td>1286887</td>\n",
       "    </tr>\n",
       "    <tr>\n",
       "      <th>19</th>\n",
       "      <td>H</td>\n",
       "      <td>936158</td>\n",
       "    </tr>\n",
       "    <tr>\n",
       "      <th>20</th>\n",
       "      <td>]</td>\n",
       "      <td>1253085</td>\n",
       "    </tr>\n",
       "    <tr>\n",
       "      <th>21</th>\n",
       "      <td>S</td>\n",
       "      <td>418728</td>\n",
       "    </tr>\n",
       "    <tr>\n",
       "      <th>22</th>\n",
       "      <td>5</td>\n",
       "      <td>98750</td>\n",
       "    </tr>\n",
       "    <tr>\n",
       "      <th>23</th>\n",
       "      <td>#</td>\n",
       "      <td>109078</td>\n",
       "    </tr>\n",
       "    <tr>\n",
       "      <th>24</th>\n",
       "      <td>Br</td>\n",
       "      <td>70038</td>\n",
       "    </tr>\n",
       "    <tr>\n",
       "      <th>25</th>\n",
       "      <td>/</td>\n",
       "      <td>345947</td>\n",
       "    </tr>\n",
       "    <tr>\n",
       "      <th>26</th>\n",
       "      <td>\\</td>\n",
       "      <td>78135</td>\n",
       "    </tr>\n",
       "    <tr>\n",
       "      <th>27</th>\n",
       "      <td>6</td>\n",
       "      <td>11356</td>\n",
       "    </tr>\n",
       "    <tr>\n",
       "      <th>28</th>\n",
       "      <td>8</td>\n",
       "      <td>516</td>\n",
       "    </tr>\n",
       "    <tr>\n",
       "      <th>29</th>\n",
       "      <td>7</td>\n",
       "      <td>1131</td>\n",
       "    </tr>\n",
       "    <tr>\n",
       "      <th>30</th>\n",
       "      <td>P</td>\n",
       "      <td>20234</td>\n",
       "    </tr>\n",
       "    <tr>\n",
       "      <th>31</th>\n",
       "      <td>p</td>\n",
       "      <td>17</td>\n",
       "    </tr>\n",
       "    <tr>\n",
       "      <th>32</th>\n",
       "      <td>+</td>\n",
       "      <td>102796</td>\n",
       "    </tr>\n",
       "    <tr>\n",
       "      <th>33</th>\n",
       "      <td>I</td>\n",
       "      <td>9080</td>\n",
       "    </tr>\n",
       "    <tr>\n",
       "      <th>34</th>\n",
       "      <td>9</td>\n",
       "      <td>17</td>\n",
       "    </tr>\n",
       "    <tr>\n",
       "      <th>35</th>\n",
       "      <td>%</td>\n",
       "      <td>8</td>\n",
       "    </tr>\n",
       "    <tr>\n",
       "      <th>36</th>\n",
       "      <td>0</td>\n",
       "      <td>4</td>\n",
       "    </tr>\n",
       "  </tbody>\n",
       "</table>\n",
       "</div>"
      ],
      "text/plain": [
       "   token       cnt\n",
       "0      C  12896279\n",
       "1      (   7025189\n",
       "2      )   7025189\n",
       "3      N   2682981\n",
       "4      c  18431345\n",
       "5      1   4604265\n",
       "6      =   2904352\n",
       "7      O   4388805\n",
       "8      n   2124346\n",
       "9      2   3590237\n",
       "10     -    576826\n",
       "11     3   1781615\n",
       "12     s    190809\n",
       "13     4    530543\n",
       "14     F    577815\n",
       "15     o    190476\n",
       "16    Cl    340814\n",
       "17     [   1253085\n",
       "18     @   1286887\n",
       "19     H    936158\n",
       "20     ]   1253085\n",
       "21     S    418728\n",
       "22     5     98750\n",
       "23     #    109078\n",
       "24    Br     70038\n",
       "25     /    345947\n",
       "26     \\     78135\n",
       "27     6     11356\n",
       "28     8       516\n",
       "29     7      1131\n",
       "30     P     20234\n",
       "31     p        17\n",
       "32     +    102796\n",
       "33     I      9080\n",
       "34     9        17\n",
       "35     %         8\n",
       "36     0         4"
      ]
     },
     "execution_count": 11,
     "metadata": {},
     "output_type": "execute_result"
    }
   ],
   "source": [
    "token_cnts = countTokens(chembl[\"Smiles\"], tokenizer)\n",
    "token_cnts"
   ]
  },
  {
   "cell_type": "code",
   "execution_count": 12,
   "metadata": {},
   "outputs": [
    {
     "data": {
      "image/png": "[encoded data removed]",
      "text/plain": [
       "<Figure size 720x432 with 1 Axes>"
      ]
     },
     "metadata": {
      "needs_background": "light"
     },
     "output_type": "display_data"
    }
   ],
   "source": [
    "# plot token distribution\n",
    "fig, ax = plt.subplots(figsize=(10, 6))\n",
    "_ = sns.barplot(data=token_cnts.sort_values(\"cnt\", ascending=False), x=\"token\", y=\"cnt\", color=\"steelblue\", ax=ax)"
   ]
  },
  {
   "cell_type": "markdown",
   "metadata": {},
   "source": [
    "## Train/validation/test split\n",
    "\n",
    "A randomly selected validation and test set will be put aside for monitoring the network training process itself (validation set) and evaluating the trained models (test set).\n",
    "\n",
    "Models will be evaluated in terms of the mean **E**vidence **L**ower **BO**und (**ELBO**) of the test set sequences (SMILES). The higher the better. This is equivalent to to saying that the loss function (which is the negative ELBO) should be as low as possible: \n",
    "\n",
    "$$L(S;\\theta)=-ELBO(S;\\theta)=KL(S;\\theta) + NLL(S;\\theta)$$\n",
    "\n",
    "where S is the set of SMILES strings in the test set, $KL(S;\\theta)$ is the mean KL divergence of the test set (obtained from the encoder of the VAE), and $NLL(S;\\theta)$ is the mean neg. log-likelihood of the test set (obtained from the decoder of the VAE). See bellow."
   ]
  },
  {
   "cell_type": "code",
   "execution_count": 5,
   "metadata": {},
   "outputs": [],
   "source": [
    "train, test = train_test_split(chembl, test_size=0.1, random_state=42)\n",
    "train, validation = train_test_split(train, test_size=0.1, random_state=42)"
   ]
  },
  {
   "cell_type": "code",
   "execution_count": 6,
   "metadata": {},
   "outputs": [
    {
     "data": {
      "text/plain": [
       "(1292494, 4)"
      ]
     },
     "execution_count": 6,
     "metadata": {},
     "output_type": "execute_result"
    }
   ],
   "source": [
    "train.shape"
   ]
  },
  {
   "cell_type": "markdown",
   "metadata": {},
   "source": [
    "### Build a dataset\n",
    "\n",
    "A dataset is created for each split so batches of samples can easily be fed to the model."
   ]
  },
  {
   "cell_type": "code",
   "execution_count": 7,
   "metadata": {},
   "outputs": [],
   "source": [
    "train_ds = SMILESDataset(train[\"Smiles\"], vocabulary, tokenizer)\n",
    "val_ds = SMILESDataset(validation[\"Smiles\"], vocabulary, tokenizer)\n",
    "test_ds = SMILESDataset(test[\"Smiles\"], vocabulary, tokenizer)"
   ]
  },
  {
   "cell_type": "markdown",
   "metadata": {},
   "source": [
    "## VAE models\n",
    "\n",
    "The variational autoencoder consists of the following components:\n",
    "1. SMILES encoder: maps input sequences to a latent vector z.\n",
    "2. Decoder: decodes a latent vector z into a sequence."
   ]
  },
  {
   "cell_type": "code",
   "execution_count": 8,
   "metadata": {},
   "outputs": [],
   "source": [
    "vae = MolecularVAE(len(vocabulary), 8, 64, 128, vocabulary.getStartIdx(), vocabulary.getEndIdx(), \n",
    "                   vocabulary.getPadIdx(), rnn_layers=2, bidirectional=True, embedding_dropout=0.1)"
   ]
  },
  {
   "cell_type": "markdown",
   "metadata": {},
   "source": [
    "## Model training"
   ]
  },
  {
   "cell_type": "markdown",
   "metadata": {},
   "source": [
    "### The loss function\n",
    "\n",
    "The loss function used for training the VAE is the negative of the **E**vidence **L**ower **BO**und (**ELBO**). ELBO consists of 2 terms, and represents the lower bound on the marginal log-likelihood of the data:\n",
    "\n",
    "$$ELBO(S;\\theta) = E_{q_{\\theta}(Z|S)}[\\log{p_{\\theta}(S|Z)}] - KL(q_{\\theta}(Z|S) \\lVert p(Z)) \\leq \\log{p(S)}$$\n",
    "\n",
    "Here, $Z$ is the latent variable, $S$ is the observed SMILES data (evidence), $q_{\\theta}(Z|S)$ (encoder output) is the approximation to the true posterior distribution - $p(Z|S)$, $p_{\\theta}(S|Z)$ is the conditional distribution over $S$ given $Z$ (decoder output), $p(Z)$ is the prior ditribution of the latent variable $Z$, and $p(S)$ is the marginal distribution of the data.\n",
    "\n",
    "The first term is estimated using a single sample drawn from the approximate posterior, whereas the KL term is computed analytically in closed form. The goal of the optimization is to maximize the lower bound, and this can be achieved by minimizing its negative (the loss function):\n",
    "\n",
    "$$L(S;\\theta) = -\\log{p_{\\theta}(S|Z)} + KL(q_{\\theta}(Z|S) \\lVert p(Z))$$\n",
    "\n",
    "Here also the expectation term was replaced by the neg. log-likelihood of $S$ given a single $Z$ drawn from $q_{\\theta}(Z|S)$ as explained above. For a minibatch of samples - $S$, the loss function then becomes:\n",
    "\n",
    "$$L(S;\\theta) = -\\frac{1}{m}\\sum_{i=1}^{m} \\log{p_{\\theta}(S_i|Z_i)} + \\frac{1}{m}\\sum_{i=1}^{m} KL(q_{\\theta}(Z_i|S_i) \\lVert p(Z))=NLL + KL$$\n",
    "\n",
    "Here, $i$ is a particular example from a batch of $m$ samples.\n",
    "\n",
    "Because $q_{\\theta}(Z_i|S_i)$ and $p(Z)$ are both chosen to be diagonal multivariate gaussians and in particular $p(Z) \\sim \\mathcal{N}(0, I)$, the KL divergence term can be computed analytically in closed form:\n",
    "\n",
    "$$KL(q_{\\theta}(Z_i|S_i) \\lVert p(Z)) = \\frac{1}{2}\\left(\\lVert\\mu_q\\lVert^2 - k + tr\\{\\Sigma_q\\} - \\log{|\\Sigma_q|}\\right)=\\frac{1}{2}\\left(\\sum_{j=1}^{k} \\mu_j^2 - k + \\sum_{j=1}^{k} \\nu_j - \\sum_{j=1}^{k} \\log{\\nu_j}\\right)=\\frac{1}{2}\\sum_{j=1}^{k}\\left(\\mu_j^2 - 1 + \\nu_j - \\log{\\nu_j}\\right)$$\n",
    "\n",
    "where $\\mu_j$ and $\\nu_j$ are the $j^{th}$ components of the mean and variance vectors of $q_{\\theta}(Z_i|S_i)$"
   ]
  },
  {
   "cell_type": "code",
   "execution_count": 9,
   "metadata": {
    "code_folding": []
   },
   "outputs": [],
   "source": [
    "def compute_loss(model:nn.Module, batch:torch.Tensor) -> tuple:\n",
    "    \"\"\"Computes the NLL and KL loss for a batch of sequences\"\"\"\n",
    "    batch_sz = batch.size(0)\n",
    "    # prepare targets (input shifted 1 step to the left and padded with pad idx)\n",
    "    targets = batch.roll(shifts=-1, dims=1)\n",
    "    targets[:, -1] = model.pad_idx\n",
    "    # prepare predictions\n",
    "    logp, _, mean, logv = model(batch)\n",
    "    preds = logp.permute(0, 2, 1)\n",
    "    # compute NLL (neg. log likelihood) loss for the target sequence (ignore padding idx)\n",
    "    nll_loss = F.nll_loss(preds, targets, ignore_index=model.pad_idx, reduction=\"sum\") / batch_sz\n",
    "    # compute KL loss\n",
    "    kl_loss = -0.5 * torch.sum(1 + logv - mean.pow(2) - logv.exp()) / batch_sz\n",
    "    # compute total loss (averged within a batch)\n",
    "    return (nll_loss, kl_loss)\n",
    "\n",
    "def annealing_func(nll_loss:torch.Tensor, kl_loss:torch.Tensor, s:int, m:int, w:int) -> torch.Tensor:\n",
    "    \"\"\"\n",
    "    Controls the final loss function through an adjustable KL weight\n",
    "    -------------------\n",
    "    s - iteration step\n",
    "    m - midpoint (iteration step at which the KL weight is 0.5)\n",
    "    w - width (smoothnes of the sigmoid annealing function around the midpoint)\n",
    "    \"\"\"\n",
    "    kl_weight = 1 / (1 + np.exp(-(s - m)/w))\n",
    "    return nll_loss + kl_weight * kl_loss\n"
   ]
  },
  {
   "cell_type": "markdown",
   "metadata": {},
   "source": [
    "### Create an optimizer"
   ]
  },
  {
   "cell_type": "code",
   "execution_count": 10,
   "metadata": {},
   "outputs": [],
   "source": [
    "optimizer = torch.optim.Adam(vae.parameters(), lr=0.001)"
   ]
  },
  {
   "cell_type": "markdown",
   "metadata": {},
   "source": [
    "### Train the model"
   ]
  },
  {
   "cell_type": "code",
   "execution_count": 11,
   "metadata": {},
   "outputs": [],
   "source": [
    "NUM_EPOCHS = 1\n",
    "BATCH_SZ = 128\n",
    "KLW_MIDPOINT = 4000\n",
    "KLW_WIDTH = 1000"
   ]
  },
  {
   "cell_type": "code",
   "execution_count": 12,
   "metadata": {
    "scrolled": true
   },
   "outputs": [
    {
     "name": "stdout",
     "output_type": "stream",
     "text": [
      "Epoch: 1\n",
      "Training batch: 0, ELBO: 183.7101, NLL: 183.6978, KL div: 0.6868\n",
      "Training batch: 100, ELBO: 107.1187, NLL: 106.6876, KL div: 21.7288\n",
      "Training batch: 200, ELBO: 82.7343, NLL: 82.1879, KL div: 24.9707\n",
      "Training batch: 300, ELBO: 71.7518, NLL: 71.2914, KL div: 19.0825\n",
      "Training batch: 400, ELBO: 64.2924, NLL: 63.8779, KL div: 15.5858\n",
      "Training batch: 500, ELBO: 60.6559, NLL: 60.3244, KL div: 11.3092\n",
      "Training batch: 600, ELBO: 60.3771, NLL: 60.0696, KL div: 9.5224\n",
      "Training batch: 700, ELBO: 59.4084, NLL: 59.0800, KL div: 9.2314\n",
      "Training batch: 800, ELBO: 53.8175, NLL: 53.4917, KL div: 8.3187\n",
      "Training batch: 900, ELBO: 54.0134, NLL: 53.7147, KL div: 6.9281\n",
      "Training batch: 1000, ELBO: 53.0493, NLL: 52.7513, KL div: 6.2834\n",
      "Training batch: 1100, ELBO: 52.2297, NLL: 51.9323, KL div: 5.7014\n",
      "Training batch: 1200, ELBO: 51.1920, NLL: 50.8955, KL div: 5.1736\n",
      "Training batch: 1300, ELBO: 51.0782, NLL: 50.7992, KL div: 4.4314\n",
      "Training batch: 1400, ELBO: 49.8666, NLL: 49.5507, KL div: 4.5688\n",
      "Training batch: 1500, ELBO: 52.4089, NLL: 52.1032, KL div: 4.0304\n",
      "Training batch: 1600, ELBO: 47.1523, NLL: 46.8322, KL div: 3.8480\n",
      "Training batch: 1700, ELBO: 49.4557, NLL: 49.1542, KL div: 3.3086\n",
      "Training batch: 1800, ELBO: 50.5279, NLL: 50.2105, KL div: 3.1821\n",
      "Training batch: 1900, ELBO: 46.8673, NLL: 46.5912, KL div: 2.5308\n",
      "Training batch: 2000, ELBO: 48.2235, NLL: 47.8465, KL div: 3.1630\n",
      "Training batch: 2100, ELBO: 46.2780, NLL: 45.9242, KL div: 2.7192\n",
      "Training batch: 2200, ELBO: 46.3025, NLL: 45.8832, KL div: 2.9562\n",
      "Training batch: 2300, ELBO: 46.6038, NLL: 46.1843, KL div: 2.7158\n",
      "Training batch: 2400, ELBO: 47.4947, NLL: 47.1213, KL div: 2.2227\n",
      "Training batch: 2500, ELBO: 44.2892, NLL: 43.8925, KL div: 2.1744\n",
      "Training batch: 2600, ELBO: 44.8302, NLL: 44.4169, KL div: 2.0893\n",
      "Training batch: 2700, ELBO: 47.9727, NLL: 47.6032, KL div: 1.7253\n",
      "Training batch: 2800, ELBO: 45.8794, NLL: 45.5067, KL div: 1.6099\n",
      "Training batch: 2900, ELBO: 45.6587, NLL: 45.2567, KL div: 1.6100\n",
      "Training batch: 3000, ELBO: 43.3166, NLL: 42.8603, KL div: 1.6968\n",
      "Training batch: 3100, ELBO: 45.7315, NLL: 45.3672, KL div: 1.2604\n",
      "Training batch: 3200, ELBO: 43.3066, NLL: 42.8891, KL div: 1.3467\n",
      "Training batch: 3300, ELBO: 45.1022, NLL: 44.7583, KL div: 1.0364\n",
      "Training batch: 3400, ELBO: 44.4625, NLL: 44.0870, KL div: 1.0597\n",
      "Training batch: 3500, ELBO: 44.2732, NLL: 43.9801, KL div: 0.7763\n",
      "Training batch: 3600, ELBO: 44.8268, NLL: 44.4819, KL div: 0.8593\n",
      "Training batch: 3700, ELBO: 47.8829, NLL: 47.5965, KL div: 0.6730\n",
      "Training batch: 3800, ELBO: 46.1245, NLL: 45.8719, KL div: 0.5611\n",
      "Training batch: 3900, ELBO: 45.4586, NLL: 45.2052, KL div: 0.5333\n",
      "Training batch: 4000, ELBO: 44.3267, NLL: 44.1053, KL div: 0.4429\n",
      "Training batch: 4100, ELBO: 45.1565, NLL: 44.9876, KL div: 0.3217\n",
      "Training batch: 4200, ELBO: 44.4752, NLL: 44.3310, KL div: 0.2623\n",
      "Training batch: 4300, ELBO: 45.6086, NLL: 45.5072, KL div: 0.1767\n",
      "Training batch: 4400, ELBO: 45.0209, NLL: 44.9233, KL div: 0.1631\n",
      "Training batch: 4500, ELBO: 42.7417, NLL: 42.6540, KL div: 0.1408\n",
      "Training batch: 4600, ELBO: 44.1593, NLL: 44.0891, KL div: 0.1088\n",
      "Training batch: 4700, ELBO: 44.6568, NLL: 44.6009, KL div: 0.0837\n",
      "Training batch: 4800, ELBO: 44.9530, NLL: 44.9223, KL div: 0.0445\n",
      "Training batch: 4900, ELBO: 44.9406, NLL: 44.9066, KL div: 0.0478\n",
      "Training batch: 5000, ELBO: 44.7245, NLL: 44.6997, KL div: 0.0338\n",
      "Training batch: 5100, ELBO: 44.6534, NLL: 44.6348, KL div: 0.0248\n",
      "Training batch: 5200, ELBO: 42.9978, NLL: 42.9846, KL div: 0.0173\n",
      "Training batch: 5300, ELBO: 42.4631, NLL: 42.4488, KL div: 0.0182\n",
      "Training batch: 5400, ELBO: 42.7757, NLL: 42.7646, KL div: 0.0138\n",
      "Training batch: 5500, ELBO: 44.8538, NLL: 44.8462, KL div: 0.0094\n",
      "Training batch: 5600, ELBO: 44.2063, NLL: 44.1967, KL div: 0.0115\n",
      "Training batch: 5700, ELBO: 42.0069, NLL: 41.9990, KL div: 0.0094\n",
      "Training batch: 5800, ELBO: 45.8298, NLL: 45.8230, KL div: 0.0080\n",
      "Training batch: 5900, ELBO: 43.3019, NLL: 43.2946, KL div: 0.0084\n",
      "Training batch: 6000, ELBO: 40.9097, NLL: 40.9061, KL div: 0.0041\n",
      "Training batch: 6100, ELBO: 40.6929, NLL: 40.6886, KL div: 0.0049\n",
      "Training batch: 6200, ELBO: 42.5061, NLL: 42.5026, KL div: 0.0039\n",
      "Training batch: 6300, ELBO: 43.9815, NLL: 43.9773, KL div: 0.0046\n",
      "Training batch: 6400, ELBO: 41.8775, NLL: 41.8740, KL div: 0.0038\n",
      "Training batch: 6500, ELBO: 40.4794, NLL: 40.4762, KL div: 0.0035\n",
      "Training batch: 6600, ELBO: 42.6274, NLL: 42.6242, KL div: 0.0035\n",
      "Training batch: 6700, ELBO: 44.3533, NLL: 44.3501, KL div: 0.0035\n",
      "Training batch: 6800, ELBO: 41.7810, NLL: 41.7791, KL div: 0.0021\n",
      "Training batch: 6900, ELBO: 41.0909, NLL: 41.0894, KL div: 0.0016\n",
      "Training batch: 7000, ELBO: 41.6319, NLL: 41.6296, KL div: 0.0024\n",
      "Training batch: 7100, ELBO: 42.8413, NLL: 42.8402, KL div: 0.0012\n",
      "Training batch: 7200, ELBO: 42.9669, NLL: 42.9658, KL div: 0.0011\n",
      "Training batch: 7300, ELBO: 41.2469, NLL: 41.2459, KL div: 0.0010\n",
      "Training batch: 7400, ELBO: 38.3900, NLL: 38.3890, KL div: 0.0011\n",
      "Training batch: 7500, ELBO: 38.5714, NLL: 38.5692, KL div: 0.0023\n",
      "Training batch: 7600, ELBO: 40.5878, NLL: 40.5864, KL div: 0.0014\n",
      "Training batch: 7700, ELBO: 40.8013, NLL: 40.8003, KL div: 0.0010\n",
      "Training batch: 7800, ELBO: 43.5159, NLL: 43.5149, KL div: 0.0010\n",
      "Training batch: 7900, ELBO: 43.0203, NLL: 43.0194, KL div: 0.0010\n",
      "Training batch: 8000, ELBO: 41.7496, NLL: 41.7488, KL div: 0.0008\n",
      "Training batch: 8100, ELBO: 40.7212, NLL: 40.7200, KL div: 0.0013\n",
      "Training batch: 8200, ELBO: 40.8500, NLL: 40.8495, KL div: 0.0005\n",
      "Training batch: 8300, ELBO: 40.7555, NLL: 40.7547, KL div: 0.0008\n",
      "Training batch: 8400, ELBO: 40.8954, NLL: 40.8948, KL div: 0.0006\n",
      "Training batch: 8500, ELBO: 40.0093, NLL: 40.0083, KL div: 0.0010\n",
      "Training batch: 8600, ELBO: 40.0644, NLL: 40.0638, KL div: 0.0007\n",
      "Training batch: 8700, ELBO: 42.7897, NLL: 42.7894, KL div: 0.0003\n",
      "Training batch: 8800, ELBO: 41.0354, NLL: 41.0351, KL div: 0.0003\n",
      "Training batch: 8900, ELBO: 41.9157, NLL: 41.9153, KL div: 0.0004\n",
      "Training batch: 9000, ELBO: 40.5471, NLL: 40.5468, KL div: 0.0004\n",
      "Training batch: 9100, ELBO: 39.8346, NLL: 39.8343, KL div: 0.0003\n",
      "Training batch: 9200, ELBO: 41.0181, NLL: 41.0178, KL div: 0.0003\n",
      "Training batch: 9300, ELBO: 43.2995, NLL: 43.2989, KL div: 0.0006\n",
      "Training batch: 9400, ELBO: 41.0846, NLL: 41.0841, KL div: 0.0005\n",
      "Training batch: 9500, ELBO: 42.1948, NLL: 42.1944, KL div: 0.0003\n",
      "Training batch: 9600, ELBO: 39.1635, NLL: 39.1631, KL div: 0.0003\n",
      "Training batch: 9700, ELBO: 39.9091, NLL: 39.9088, KL div: 0.0004\n",
      "Training batch: 9800, ELBO: 40.5607, NLL: 40.5604, KL div: 0.0003\n",
      "Training batch: 9900, ELBO: 40.7307, NLL: 40.7304, KL div: 0.0003\n",
      "Training batch: 10000, ELBO: 41.8102, NLL: 41.8100, KL div: 0.0002\n",
      "Epoch 1 validation scores: ELBO: 39.6908, NLL: 39.6903, KL div: 0.0005\n"
     ]
    }
   ],
   "source": [
    "step = 0\n",
    "for e in range(1, NUM_EPOCHS+1):\n",
    "    print(\"Epoch: %i\" %e)\n",
    "    # train model on the training set\n",
    "    dataloader = tud.DataLoader(train_ds, batch_size=BATCH_SZ, shuffle=True, collate_fn=train_ds.getCollateFn())\n",
    "    # enable dropout\n",
    "    vae.train()\n",
    "#     train_scores = {\"ELBO\":[], \"NLL\":[], \"KL\":[]}\n",
    "    for b, batch in enumerate(dataloader):\n",
    "        optimizer.zero_grad()\n",
    "        # compute loss\n",
    "        nll_loss, kl_loss = compute_loss(vae, batch)\n",
    "        loss = annealing_func(nll_loss, kl_loss, step, KLW_MIDPOINT, KLW_WIDTH)\n",
    "        # compute gradients\n",
    "        loss.backward()\n",
    "        # update weights\n",
    "        optimizer.step()\n",
    "        step += 1\n",
    "        # print training progress\n",
    "        if b % 100 == 0:\n",
    "            print(\"Training batch: %i, ELBO: %.4f, NLL: %.4f, KL div: %.4f\" % (b, \n",
    "                                   loss.item(), nll_loss.item(), kl_loss.item()))\n",
    "    # evaluate on the validation set\n",
    "    dataloader = tud.DataLoader(val_ds, batch_size=BATCH_SZ, shuffle=False, collate_fn=val_ds.getCollateFn())\n",
    "    # disable dropout\n",
    "    vae.eval()\n",
    "    val_scores = {\"ELBO\":[], \"NLL\":[], \"KL\":[]}\n",
    "    for b, batch in enumerate(dataloader):\n",
    "        nll_loss, kl_loss = compute_loss(vae, batch)\n",
    "        loss = nll_loss + kl_loss\n",
    "        val_scores[\"ELBO\"].append(loss.item())\n",
    "        val_scores[\"NLL\"].append(nll_loss.item())\n",
    "        val_scores[\"KL\"].append(kl_loss.item())\n",
    "    val_mean = {k:np.mean(v) for k, v in val_scores.items()}\n",
    "    print(\"Epoch %i validation scores: ELBO: %.4f, NLL: %.4f, KL div: %.4f\" % (e, \n",
    "                                   val_mean[\"ELBO\"], val_mean[\"NLL\"], val_mean[\"KL\"]))\n",
    "\n"
   ]
  },
  {
   "cell_type": "markdown",
   "metadata": {},
   "source": [
    "### Persist trained model"
   ]
  },
  {
   "cell_type": "code",
   "execution_count": 13,
   "metadata": {},
   "outputs": [],
   "source": [
    "torch.save(vae.state_dict(), \"saved_models/gru_vae.pt\")"
   ]
  },
  {
   "cell_type": "markdown",
   "metadata": {},
   "source": [
    "### Load trained model"
   ]
  },
  {
   "cell_type": "code",
   "execution_count": 14,
   "metadata": {},
   "outputs": [
    {
     "data": {
      "text/plain": [
       "MolecularVAE(\n",
       "  (embedding): Embedding(40, 8, padding_idx=0)\n",
       "  (encoder_rnn): GRU(8, 64, num_layers=2, batch_first=True, bidirectional=True)\n",
       "  (hidden2mean): Linear(in_features=256, out_features=128, bias=True)\n",
       "  (hidden2logv): Linear(in_features=256, out_features=128, bias=True)\n",
       "  (latent2hidden): Linear(in_features=128, out_features=128, bias=True)\n",
       "  (embedding_droput): Dropout(p=0.1, inplace=False)\n",
       "  (decoder_rnn): GRU(8, 64, num_layers=2, batch_first=True)\n",
       "  (outputs2vocab): Linear(in_features=64, out_features=40, bias=True)\n",
       ")"
      ]
     },
     "execution_count": 14,
     "metadata": {},
     "output_type": "execute_result"
    }
   ],
   "source": [
    "vae.load_state_dict(torch.load(\"saved_models/gru_vae.pt\"))\n",
    "# set to inference mode\n",
    "vae.eval()"
   ]
  },
  {
   "cell_type": "markdown",
   "metadata": {},
   "source": [
    "## Generate sequences"
   ]
  },
  {
   "cell_type": "markdown",
   "metadata": {},
   "source": [
    "### Prior sampling"
   ]
  },
  {
   "cell_type": "code",
   "execution_count": 15,
   "metadata": {
    "scrolled": true
   },
   "outputs": [],
   "source": [
    "samples = vae.generateSequences(n=32, max_len=150, greedy=False)"
   ]
  },
  {
   "cell_type": "code",
   "execution_count": 25,
   "metadata": {
    "scrolled": true
   },
   "outputs": [
    {
     "data": {
      "text/plain": [
       "['Oc1nc(=O)c2ccc(=O)n(Cc3cccc(F)c3)c2)cc1',\n",
       " 'COC(CO)C(=O)/C(=C\\\\C(=O)OC)(C)C',\n",
       " 'Cc1ccc(CNC(=O)c2ccccc2)nc1CCCC',\n",
       " 'Nc1ccc(CCCN2CC[C@@H](CN4CCCCCC3)C3)cc1CC#Cc1ccnc(C)c1',\n",
       " 'COc1ccc2c(c3ccc(C(=O)NNC(=O)c5ncc(NC(=O)c4cccnc4)n3)CCC3)cc12',\n",
       " 'COc1cc(-c2nn(C3CCC[C@H]3C2)os1)c1c(Cl)cccc1Cl',\n",
       " 'O=C1C(c2cnc(C(=O)O)C2)nn1',\n",
       " 'Cc1cc(N2CCN(c3ccc(C(=O)NCCN4CCN(C[C@@H]3CCCN(C)CC4)no2)CC3(COC)C2)nc1OC3',\n",
       " 'Cc1cccc(C(=O)Nc2cnc(-n3cnnn3)c2C(=O)NC1c1ccc(F)cc1)c1cncs1',\n",
       " 'COc1cc(N2CCN(C)CC2)ccc1Oc1ccccc1',\n",
       " 'O=C(O)c1ccc(S(=O)(=O)NC2CCNCC2)c(C#Cc2ccc(C)cc2)n1',\n",
       " 'COc1ccc(OC)c(C)c1OC',\n",
       " 'CC(=O)N1CC2(C(=O)NCN2CCN(CCc4ccccc4-c4ccc4c(c4)OCC5)CC4)CC2)cn1',\n",
       " 'O=C(O)c1ccccc1-c1cc(OC)c(O)cc1O',\n",
       " 'Cc1cccc(CNC(=O)/C=N/c2ccccc2)n1',\n",
       " 'CC(C)OC[C@H](NC(=O)c1ccc(OCC2CCCCC2)cc1',\n",
       " 'CN1CCN(c2cc(-c3ccncc3)[nH]c2cc1COc2ccccc21',\n",
       " 'CC1(C)OC(=O)c2ccccc12',\n",
       " 'COC[C@@H]1[C@H]2C[C@H](O)C=C21',\n",
       " 'Cc1nc(Nc2ccc(N(C(=O)O)C(C)(C)C)c(-n3cccc3)c2ncn2C(=O)c2ccccc2)cc1',\n",
       " 'N#Cc1ccc(OC2CCC2CC(C(=O)c4ccccc4C3)Cn2c2ccccc21',\n",
       " 'CCn1cncc1-c1cc(-c2ccc3c(c2)Cn2cc(C(=O)N3CCCCC3)ccc2O)cc1',\n",
       " 'Nc1ccc(NC(=O)c2ccc(-c3ccc(N)cc3)n2-c2cc(F)ccc2F)cc1',\n",
       " 'CC(C)/C=C(//C=C/c1ccc(Cl)cc1)NC(=O)[C@H]1O[C@@H](O)[C@H](O)[C@H]1O',\n",
       " 'COc1ccc2ncccc12)c1ccccc1-c1ccc(F)cc1',\n",
       " 'COCC(=O)Nc1ccc(Nc2ccc3nc(NCCCCCn4cc(C)ccc4C3=O)nc23)cc1',\n",
       " 'O=C(NCc1ccccc1Cl)Nc1ncc(S(=O)(=O)N2CCOCC2)cc1',\n",
       " 'COc1nc2c(c(Nc3ccccc3)cc2s1',\n",
       " 'Cn1nc(-c2ccc(NC(=O)C(F)(F)F)c(C)c2)c(=O)[nH]c1=O',\n",
       " 'COC[C@H]1O[C@H]2SC(=O)[C@@H](CO)[C@@H]1CC[C@H](OCc1ccc(OCCO)cc1)C1C2=O)N(Cc1ccccc1)CC3',\n",
       " 'COc1cc2nc(-c3cccc(-Cc4ccn(C(=O)O)c4)cc3)c2N1c1ccccc1Cl',\n",
       " 'CCCn1c(=O)cc(-c2cc(C)cc(C)c2)cc1Br']"
      ]
     },
     "execution_count": 25,
     "metadata": {},
     "output_type": "execute_result"
    }
   ],
   "source": [
    "gen_smiles = [tokenizer.untokenize(vocabulary.decode(s)) for s in samples.tolist()]\n",
    "gen_smiles"
   ]
  },
  {
   "cell_type": "code",
   "execution_count": 30,
   "metadata": {},
   "outputs": [
    {
     "data": {
      "image/png": "[encoded data removed]",
      "image/svg+xml": [
       "<?xml version='1.0' encoding='iso-8859-1'?>\n",
       "<svg version='1.1' baseProfile='full'\n",
       "              xmlns='http://www.w3.org/2000/svg'\n",
       "                      xmlns:rdkit='http://www.rdkit.org/xml'\n",
       "                      xmlns:xlink='http://www.w3.org/1999/xlink'\n",
       "                  xml:space='preserve'\n",
       "width='450px' height='150px' viewBox='0 0 450 150'>\n",
       "<!-- END OF HEADER -->\n",
       "<rect style='opacity:1.0;fill:#FFFFFF;stroke:none' width='450' height='150' x='0' y='0'> </rect>\n",
       "<path class='bond-0' d='M 123.312,44.7063 L 148.241,38.3916' style='fill:none;fill-rule:evenodd;stroke:#000000;stroke-width:2px;stroke-linecap:butt;stroke-linejoin:miter;stroke-opacity:1' />\n",
       "<path class='bond-1' d='M 148.241,38.3916 L 155.237,13.6448' style='fill:none;fill-rule:evenodd;stroke:#000000;stroke-width:2px;stroke-linecap:butt;stroke-linejoin:miter;stroke-opacity:1' />\n",
       "<path class='bond-1' d='M 154.24,36.0788 L 159.137,18.756' style='fill:none;fill-rule:evenodd;stroke:#000000;stroke-width:2px;stroke-linecap:butt;stroke-linejoin:miter;stroke-opacity:1' />\n",
       "<path class='bond-20' d='M 148.241,38.3916 L 166.174,56.8238' style='fill:none;fill-rule:evenodd;stroke:#000000;stroke-width:2px;stroke-linecap:butt;stroke-linejoin:miter;stroke-opacity:1' />\n",
       "<path class='bond-2' d='M 155.237,13.6448 L 180.167,7.3301' style='fill:none;fill-rule:evenodd;stroke:#000000;stroke-width:2px;stroke-linecap:butt;stroke-linejoin:miter;stroke-opacity:1' />\n",
       "<path class='bond-3' d='M 180.167,7.3301 L 198.1,25.7623' style='fill:none;fill-rule:evenodd;stroke:#000000;stroke-width:2px;stroke-linecap:butt;stroke-linejoin:miter;stroke-opacity:1' />\n",
       "<path class='bond-3' d='M 179.17,13.6816 L 191.723,26.5841' style='fill:none;fill-rule:evenodd;stroke:#000000;stroke-width:2px;stroke-linecap:butt;stroke-linejoin:miter;stroke-opacity:1' />\n",
       "<path class='bond-4' d='M 198.1,25.7623 L 223.029,19.4476' style='fill:none;fill-rule:evenodd;stroke:#000000;stroke-width:2px;stroke-linecap:butt;stroke-linejoin:miter;stroke-opacity:1' />\n",
       "<path class='bond-14' d='M 198.1,25.7623 L 195.208,35.9926' style='fill:none;fill-rule:evenodd;stroke:#000000;stroke-width:2px;stroke-linecap:butt;stroke-linejoin:miter;stroke-opacity:1' />\n",
       "<path class='bond-14' d='M 195.208,35.9926 L 192.316,46.223' style='fill:none;fill-rule:evenodd;stroke:#0000FF;stroke-width:2px;stroke-linecap:butt;stroke-linejoin:miter;stroke-opacity:1' />\n",
       "<path class='bond-5' d='M 223.029,19.4476 L 229.911,26.5206' style='fill:none;fill-rule:evenodd;stroke:#000000;stroke-width:2px;stroke-linecap:butt;stroke-linejoin:miter;stroke-opacity:1' />\n",
       "<path class='bond-5' d='M 229.911,26.5206 L 236.793,33.5936' style='fill:none;fill-rule:evenodd;stroke:#0000FF;stroke-width:2px;stroke-linecap:butt;stroke-linejoin:miter;stroke-opacity:1' />\n",
       "<path class='bond-6' d='M 248.393,35.9977 L 257.142,33.7814' style='fill:none;fill-rule:evenodd;stroke:#0000FF;stroke-width:2px;stroke-linecap:butt;stroke-linejoin:miter;stroke-opacity:1' />\n",
       "<path class='bond-6' d='M 257.142,33.7814 L 265.892,31.565' style='fill:none;fill-rule:evenodd;stroke:#000000;stroke-width:2px;stroke-linecap:butt;stroke-linejoin:miter;stroke-opacity:1' />\n",
       "<path class='bond-7' d='M 268.367,32.2646 L 271.259,22.0343' style='fill:none;fill-rule:evenodd;stroke:#000000;stroke-width:2px;stroke-linecap:butt;stroke-linejoin:miter;stroke-opacity:1' />\n",
       "<path class='bond-7' d='M 271.259,22.0343 L 274.151,11.8039' style='fill:none;fill-rule:evenodd;stroke:#FF0000;stroke-width:2px;stroke-linecap:butt;stroke-linejoin:miter;stroke-opacity:1' />\n",
       "<path class='bond-7' d='M 263.417,30.8654 L 266.31,20.6351' style='fill:none;fill-rule:evenodd;stroke:#000000;stroke-width:2px;stroke-linecap:butt;stroke-linejoin:miter;stroke-opacity:1' />\n",
       "<path class='bond-7' d='M 266.31,20.6351 L 269.202,10.4047' style='fill:none;fill-rule:evenodd;stroke:#FF0000;stroke-width:2px;stroke-linecap:butt;stroke-linejoin:miter;stroke-opacity:1' />\n",
       "<path class='bond-8' d='M 265.892,31.565 L 283.826,49.9972' style='fill:none;fill-rule:evenodd;stroke:#000000;stroke-width:2px;stroke-linecap:butt;stroke-linejoin:miter;stroke-opacity:1' />\n",
       "<path class='bond-9' d='M 283.826,49.9972 L 276.829,74.744' style='fill:none;fill-rule:evenodd;stroke:#000000;stroke-width:2px;stroke-linecap:butt;stroke-linejoin:miter;stroke-opacity:1' />\n",
       "<path class='bond-9' d='M 287.725,55.1084 L 282.828,72.4312' style='fill:none;fill-rule:evenodd;stroke:#000000;stroke-width:2px;stroke-linecap:butt;stroke-linejoin:miter;stroke-opacity:1' />\n",
       "<path class='bond-21' d='M 283.826,49.9972 L 308.755,43.6825' style='fill:none;fill-rule:evenodd;stroke:#000000;stroke-width:2px;stroke-linecap:butt;stroke-linejoin:miter;stroke-opacity:1' />\n",
       "<path class='bond-10' d='M 276.829,74.744 L 294.763,93.1762' style='fill:none;fill-rule:evenodd;stroke:#000000;stroke-width:2px;stroke-linecap:butt;stroke-linejoin:miter;stroke-opacity:1' />\n",
       "<path class='bond-11' d='M 294.763,93.1762 L 319.692,86.8615' style='fill:none;fill-rule:evenodd;stroke:#000000;stroke-width:2px;stroke-linecap:butt;stroke-linejoin:miter;stroke-opacity:1' />\n",
       "<path class='bond-11' d='M 297.239,87.2431 L 314.69,82.8228' style='fill:none;fill-rule:evenodd;stroke:#000000;stroke-width:2px;stroke-linecap:butt;stroke-linejoin:miter;stroke-opacity:1' />\n",
       "<path class='bond-12' d='M 319.692,86.8615 L 326.688,62.1147' style='fill:none;fill-rule:evenodd;stroke:#000000;stroke-width:2px;stroke-linecap:butt;stroke-linejoin:miter;stroke-opacity:1' />\n",
       "<path class='bond-13' d='M 326.688,62.1147 L 308.755,43.6825' style='fill:none;fill-rule:evenodd;stroke:#000000;stroke-width:2px;stroke-linecap:butt;stroke-linejoin:miter;stroke-opacity:1' />\n",
       "<path class='bond-13' d='M 320.312,62.9365 L 307.759,50.034' style='fill:none;fill-rule:evenodd;stroke:#000000;stroke-width:2px;stroke-linecap:butt;stroke-linejoin:miter;stroke-opacity:1' />\n",
       "<path class='bond-15' d='M 187.389,51.4501 L 176.782,54.137' style='fill:none;fill-rule:evenodd;stroke:#0000FF;stroke-width:2px;stroke-linecap:butt;stroke-linejoin:miter;stroke-opacity:1' />\n",
       "<path class='bond-15' d='M 176.782,54.137 L 166.174,56.8238' style='fill:none;fill-rule:evenodd;stroke:#000000;stroke-width:2px;stroke-linecap:butt;stroke-linejoin:miter;stroke-opacity:1' />\n",
       "<path class='bond-15' d='M 182.944,47.2703 L 175.519,49.1511' style='fill:none;fill-rule:evenodd;stroke:#0000FF;stroke-width:2px;stroke-linecap:butt;stroke-linejoin:miter;stroke-opacity:1' />\n",
       "<path class='bond-15' d='M 175.519,49.1511 L 168.094,51.0319' style='fill:none;fill-rule:evenodd;stroke:#000000;stroke-width:2px;stroke-linecap:butt;stroke-linejoin:miter;stroke-opacity:1' />\n",
       "<path class='bond-16' d='M 166.174,56.8238 L 159.178,81.5706' style='fill:none;fill-rule:evenodd;stroke:#000000;stroke-width:2px;stroke-linecap:butt;stroke-linejoin:miter;stroke-opacity:1' />\n",
       "<path class='bond-17' d='M 159.178,81.5706 L 177.112,100.003' style='fill:none;fill-rule:evenodd;stroke:#000000;stroke-width:2px;stroke-linecap:butt;stroke-linejoin:miter;stroke-opacity:1' />\n",
       "<path class='bond-18' d='M 177.112,100.003 L 170.116,124.75' style='fill:none;fill-rule:evenodd;stroke:#000000;stroke-width:2px;stroke-linecap:butt;stroke-linejoin:miter;stroke-opacity:1' />\n",
       "<path class='bond-19' d='M 170.116,124.75 L 188.049,143.182' style='fill:none;fill-rule:evenodd;stroke:#000000;stroke-width:2px;stroke-linecap:butt;stroke-linejoin:miter;stroke-opacity:1' />\n",
       "<text x='233.533' y='42.1658' style='font-size:8px;font-style:normal;font-weight:normal;fill-opacity:1;stroke:none;font-family:sans-serif;text-anchor:start;fill:#0000FF' ><tspan>NH</tspan></text>\n",
       "<text x='268.885' y='11.1043' style='font-size:8px;font-style:normal;font-weight:normal;fill-opacity:1;stroke:none;font-family:sans-serif;text-anchor:start;fill:#FF0000' ><tspan>O</tspan></text>\n",
       "<text x='187.389' y='54.7952' style='font-size:8px;font-style:normal;font-weight:normal;fill-opacity:1;stroke:none;font-family:sans-serif;text-anchor:start;fill:#0000FF' ><tspan>N</tspan></text>\n",
       "</svg>\n"
      ],
      "text/plain": [
       "<rdkit.Chem.rdchem.Mol at 0x7fae6d10c300>"
      ]
     },
     "execution_count": 30,
     "metadata": {},
     "output_type": "execute_result"
    }
   ],
   "source": [
    "Chem.MolFromSmiles(gen_smiles[2])"
   ]
  },
  {
   "cell_type": "code",
   "execution_count": 26,
   "metadata": {
    "scrolled": true
   },
   "outputs": [
    {
     "name": "stderr",
     "output_type": "stream",
     "text": [
      "RDKit ERROR: [18:14:21] SMILES Parse Error: extra close parentheses while parsing: Oc1nc(=O)c2ccc(=O)n(Cc3cccc(F)c3)c2)cc1\n",
      "RDKit ERROR: [18:14:21] \n",
      "RDKit ERROR: \n",
      "RDKit ERROR: ****\n",
      "RDKit ERROR: Pre-condition Violation\n",
      "RDKit ERROR: no atoms\n",
      "RDKit ERROR: Violation occurred on line 173 in file /opt/conda/conda-bld/rdkit_1571980026485/work/Code/GraphMol/ROMol.cpp\n",
      "RDKit ERROR: Failed Expression: getNumAtoms() > 0\n",
      "RDKit ERROR: ****\n",
      "RDKit ERROR: \n",
      "RDKit ERROR: [18:14:21] Explicit valence for atom # 7 C, 5, is greater than permitted\n",
      "RDKit ERROR: [18:14:21] SMILES Parse Error: unclosed ring for input: 'Nc1ccc(CCCN2CC[C@@H](CN4CCCCCC3)C3)cc1CC#Cc1ccnc(C)c1'\n",
      "RDKit ERROR: [18:14:21] SMILES Parse Error: unclosed ring for input: 'COc1ccc2c(c3ccc(C(=O)NNC(=O)c5ncc(NC(=O)c4cccnc4)n3)CCC3)cc12'\n",
      "RDKit ERROR: [18:14:21] Can't kekulize mol.  Unkekulized atoms: 2 3 4 5 6\n",
      "RDKit ERROR: \n",
      "RDKit ERROR: [18:14:21] SMILES Parse Error: extra open parentheses for input: 'Cc1cc(N2CCN(c3ccc(C(=O)NCCN4CCN(C[C@@H]3CCCN(C)CC4)no2)CC3(COC)C2)nc1OC3'\n",
      "RDKit ERROR: [18:14:21] Can't kekulize mol.  Unkekulized atoms: 1 2 3 4 5 9 10 11 12 18\n",
      "RDKit ERROR: \n",
      "RDKit ERROR: [18:14:21] SMILES Parse Error: extra close parentheses while parsing: CC(=O)N1CC2(C(=O)NCN2CCN(CCc4ccccc4-c4ccc4c(c4)OCC5)CC4)CC2)cn1\n",
      "RDKit ERROR: [18:14:21] \n",
      "RDKit ERROR: \n",
      "RDKit ERROR: ****\n",
      "RDKit ERROR: Pre-condition Violation\n",
      "RDKit ERROR: no atoms\n",
      "RDKit ERROR: Violation occurred on line 173 in file /opt/conda/conda-bld/rdkit_1571980026485/work/Code/GraphMol/ROMol.cpp\n",
      "RDKit ERROR: Failed Expression: getNumAtoms() > 0\n",
      "RDKit ERROR: ****\n",
      "RDKit ERROR: \n",
      "RDKit ERROR: [18:14:21] SMILES Parse Error: extra open parentheses for input: 'CC(C)OC[C@H](NC(=O)c1ccc(OCC2CCCCC2)cc1'\n",
      "RDKit ERROR: [18:14:21] SMILES Parse Error: extra open parentheses for input: 'CN1CCN(c2cc(-c3ccncc3)[nH]c2cc1COc2ccccc21'\n",
      "RDKit ERROR: [18:14:21] SMILES Parse Error: unclosed ring for input: 'Cc1nc(Nc2ccc(N(C(=O)O)C(C)(C)C)c(-n3cccc3)c2ncn2C(=O)c2ccccc2)cc1'\n",
      "RDKit ERROR: [18:14:21] SMILES Parse Error: extra open parentheses for input: 'N#Cc1ccc(OC2CCC2CC(C(=O)c4ccccc4C3)Cn2c2ccccc21'\n",
      "RDKit ERROR: [18:14:21] SMILES Parse Error: unclosed ring for input: 'CCn1cncc1-c1cc(-c2ccc3c(c2)Cn2cc(C(=O)N3CCCCC3)ccc2O)cc1'\n",
      "RDKit ERROR: [18:14:21] SMILES Parse Error: syntax error while parsing: CC(C)/C=C(//C=C/c1ccc(Cl)cc1)NC(=O)[C@H]1O[C@@H](O)[C@H](O)[C@H]1O\n",
      "RDKit ERROR: [18:14:21] SMILES Parse Error: Failed parsing SMILES 'CC(C)/C=C(//C=C/c1ccc(Cl)cc1)NC(=O)[C@H]1O[C@@H](O)[C@H](O)[C@H]1O' for input: 'CC(C)/C=C(//C=C/c1ccc(Cl)cc1)NC(=O)[C@H]1O[C@@H](O)[C@H](O)[C@H]1O'\n",
      "RDKit ERROR: [18:14:21] SMILES Parse Error: extra close parentheses while parsing: COc1ccc2ncccc12)c1ccccc1-c1ccc(F)cc1\n",
      "RDKit ERROR: [18:14:21] \n",
      "RDKit ERROR: \n",
      "RDKit ERROR: ****\n",
      "RDKit ERROR: Pre-condition Violation\n",
      "RDKit ERROR: no atoms\n",
      "RDKit ERROR: Violation occurred on line 173 in file /opt/conda/conda-bld/rdkit_1571980026485/work/Code/GraphMol/ROMol.cpp\n",
      "RDKit ERROR: Failed Expression: getNumAtoms() > 0\n",
      "RDKit ERROR: ****\n",
      "RDKit ERROR: \n",
      "RDKit ERROR: [18:14:21] SMILES Parse Error: unclosed ring for input: 'COCC(=O)Nc1ccc(Nc2ccc3nc(NCCCCCn4cc(C)ccc4C3=O)nc23)cc1'\n",
      "RDKit ERROR: [18:14:21] SMILES Parse Error: extra open parentheses for input: 'COc1nc2c(c(Nc3ccccc3)cc2s1'\n",
      "RDKit ERROR: [18:14:21] SMILES Parse Error: extra close parentheses while parsing: COC[C@H]1O[C@H]2SC(=O)[C@@H](CO)[C@@H]1CC[C@H](OCc1ccc(OCCO)cc1)C1C2=O)N(Cc1ccccc1)CC3\n",
      "RDKit ERROR: [18:14:21] \n",
      "RDKit ERROR: \n",
      "RDKit ERROR: ****\n",
      "RDKit ERROR: Pre-condition Violation\n",
      "RDKit ERROR: no atoms\n",
      "RDKit ERROR: Violation occurred on line 173 in file /opt/conda/conda-bld/rdkit_1571980026485/work/Code/GraphMol/ROMol.cpp\n",
      "RDKit ERROR: Failed Expression: getNumAtoms() > 0\n",
      "RDKit ERROR: ****\n",
      "RDKit ERROR: \n",
      "RDKit ERROR: [18:14:21] Can't kekulize mol.  Unkekulized atoms: 7 8 9 10 11 21 22\n",
      "RDKit ERROR: \n"
     ]
    }
   ],
   "source": [
    "gen_mols = [Chem.MolFromSmiles(s) for s in gen_smiles]"
   ]
  },
  {
   "cell_type": "code",
   "execution_count": 27,
   "metadata": {},
   "outputs": [
    {
     "data": {
      "text/plain": [
       "[None,\n",
       " None,\n",
       " <rdkit.Chem.rdchem.Mol at 0x7fae862fd440>,\n",
       " None,\n",
       " None,\n",
       " None,\n",
       " <rdkit.Chem.rdchem.Mol at 0x7fae862fd300>,\n",
       " None,\n",
       " None,\n",
       " <rdkit.Chem.rdchem.Mol at 0x7fae862fd3f0>,\n",
       " <rdkit.Chem.rdchem.Mol at 0x7fae862fda30>,\n",
       " <rdkit.Chem.rdchem.Mol at 0x7fae862fd2b0>,\n",
       " None,\n",
       " <rdkit.Chem.rdchem.Mol at 0x7fae862fdc10>,\n",
       " <rdkit.Chem.rdchem.Mol at 0x7fae862fdcb0>,\n",
       " None,\n",
       " None,\n",
       " <rdkit.Chem.rdchem.Mol at 0x7fae862fd4e0>,\n",
       " <rdkit.Chem.rdchem.Mol at 0x7fae862fd210>,\n",
       " None,\n",
       " None,\n",
       " None,\n",
       " <rdkit.Chem.rdchem.Mol at 0x7fae862fd350>,\n",
       " None,\n",
       " None,\n",
       " None,\n",
       " <rdkit.Chem.rdchem.Mol at 0x7fae862fd5d0>,\n",
       " None,\n",
       " <rdkit.Chem.rdchem.Mol at 0x7fae862fdb20>,\n",
       " None,\n",
       " None,\n",
       " <rdkit.Chem.rdchem.Mol at 0x7fae862fd030>]"
      ]
     },
     "execution_count": 27,
     "metadata": {},
     "output_type": "execute_result"
    }
   ],
   "source": [
    "gen_mols"
   ]
  },
  {
   "cell_type": "markdown",
   "metadata": {},
   "source": [
    "### Posterior sampling"
   ]
  },
  {
   "cell_type": "code",
   "execution_count": 17,
   "metadata": {},
   "outputs": [
    {
     "data": {
      "text/plain": [
       "'O=C(/C=C/c1ccc2c(c1)C(=O)N(Cc1ccccc1)C1(CCNCC1)O2)NO'"
      ]
     },
     "execution_count": 17,
     "metadata": {},
     "output_type": "execute_result"
    }
   ],
   "source": [
    "# try sampling from a posterior of a sample from the test set\n",
    "tokenizer.untokenize(vocabulary.decode(test_ds[0].tolist()))"
   ]
  },
  {
   "cell_type": "code",
   "execution_count": 18,
   "metadata": {},
   "outputs": [],
   "source": [
    "logp, z, mean, logv = vae(test_ds[0].reshape(1, -1))"
   ]
  },
  {
   "cell_type": "code",
   "execution_count": 21,
   "metadata": {},
   "outputs": [
    {
     "data": {
      "text/plain": [
       "torch.Size([4, 128])"
      ]
     },
     "execution_count": 21,
     "metadata": {},
     "output_type": "execute_result"
    }
   ],
   "source": [
    "z.repeat(4, 1).shape"
   ]
  },
  {
   "cell_type": "code",
   "execution_count": 22,
   "metadata": {},
   "outputs": [
    {
     "data": {
      "text/plain": [
       "tensor([[ 1, 23, 23,  ...,  0,  0,  0],\n",
       "        [ 1, 23, 23,  ...,  0,  0,  0],\n",
       "        [ 1, 23, 23,  ...,  0,  0,  0],\n",
       "        ...,\n",
       "        [ 1, 23, 29,  ...,  0,  0,  0],\n",
       "        [ 1, 25, 35,  ...,  0,  0,  0],\n",
       "        [ 1, 23, 23,  ...,  0,  0,  0]])"
      ]
     },
     "execution_count": 22,
     "metadata": {},
     "output_type": "execute_result"
    }
   ],
   "source": [
    "samples2 = vae.generateSequences(z=z.repeat(16, 1), max_len=150, greedy=False)\n",
    "samples2"
   ]
  },
  {
   "cell_type": "code",
   "execution_count": 23,
   "metadata": {},
   "outputs": [
    {
     "data": {
      "text/plain": [
       "['CC(C)NCn1c(C[C@@H](N)Cc2ccco2)no1',\n",
       " 'CCC1(C)[C@H]1CCCN(CCc1cccc(OP(C)(=O)=O)c1)C(S)C',\n",
       " 'CCCN1CCC2(CCS(S(=O)(=O)c3ccccc3-2)C(=O)c2ccccc2)C(=O)N1',\n",
       " 'O=C(Cc1ccc(Br)c(Cl)c1)N(C(=O)c1ccccc1)C12CC3CN(C(=O)N[C@H]3C=CCC4)C1',\n",
       " 'CC(C)c1cc(c2cc(=O)c3c(c1CC(=O)O)C12CCCCC32',\n",
       " 'CC(C)Cc1ccc(-c2cccc(-n3nc(C)c(OC)c3)cc2)s1',\n",
       " 'CN(C[C@@H]1CC[C@H](CC)CCCNC(=O)c2ccc(N(C)C)cc1)C(=O)OC2N(CCNC1CC[C@@H]2CO[C@H](CO)[C@@H]1CCCC1)C(=O)N2',\n",
       " 'CC1=CNCCN(CCOCC=O)(C(=O)Nc2ccccc2)(F)N1Cc1ccccc1',\n",
       " 'CC(O)=CC[C@@H](Cc1ccccc1)C1',\n",
       " 'O=P1(O)C2(C)CCC1C(N)=O',\n",
       " 'COP(=O)(Oc1ccccc1-c1cccnc1)c1cc(Br)cc(CO)n1',\n",
       " 'CCc1nn(-c2ccccc2)s1',\n",
       " 'COCCNS(=O)(=O)c1ccc(/C=C/C(=O)COC2O)o1',\n",
       " 'CO[C@@H]1CCC[C@]2(O)Cc2cc(Cc3c(cccc3[N+](=O)[O-])CC2)ccc1O',\n",
       " 'Fc1ccc(CNC(=O)CCCN2CCOCC2)cc(OCCNC)c1',\n",
       " 'CCOC(=O)Nc1c(C(=N)N)c(CCNC(=O)COC2=O)c2c(c(C)c3c1OCC3)CC(=O)c1ccccc1']"
      ]
     },
     "execution_count": 23,
     "metadata": {},
     "output_type": "execute_result"
    }
   ],
   "source": [
    "gen_mols2 = [tokenizer.untokenize(vocabulary.decode(s)) for s in samples2.tolist()]\n",
    "gen_mols2"
   ]
  },
  {
   "cell_type": "code",
   "execution_count": null,
   "metadata": {},
   "outputs": [],
   "source": []
  }
 ],
 "metadata": {
  "kernelspec": {
   "display_name": "Python 3",
   "language": "python",
   "name": "python3"
  },
  "language_info": {
   "codemirror_mode": {
    "name": "ipython",
    "version": 3
   },
   "file_extension": ".py",
   "mimetype": "text/x-python",
   "name": "python",
   "nbconvert_exporter": "python",
   "pygments_lexer": "ipython3",
   "version": "3.7.3"
  },
  "toc": {
   "base_numbering": 1,
   "nav_menu": {},
   "number_sections": false,
   "sideBar": true,
   "skip_h1_title": false,
   "title_cell": "Table of Contents",
   "title_sidebar": "Contents",
   "toc_cell": false,
   "toc_position": {
    "height": "calc(100% - 180px)",
    "left": "10px",
    "top": "150px",
    "width": "341.875px"
   },
   "toc_section_display": true,
   "toc_window_display": true
  }
 },
 "nbformat": 4,
 "nbformat_minor": 2
}
